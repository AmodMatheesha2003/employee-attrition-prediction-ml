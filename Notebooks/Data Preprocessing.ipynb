{
 "cells": [
  {
   "metadata": {},
   "cell_type": "markdown",
   "source": "<h1 style=\"color:blue; text-align:center;\">Data Preprocessing</h1>\n",
   "id": "3c0947c68bd34ad6"
  },
  {
   "metadata": {},
   "cell_type": "markdown",
   "source": "<H2>Load Dataset</H2>",
   "id": "98a42ad7b8db80d6"
  },
  {
   "metadata": {
    "ExecuteTime": {
     "end_time": "2025-03-16T04:57:46.717818Z",
     "start_time": "2025-03-16T04:57:46.497943Z"
    }
   },
   "cell_type": "code",
   "source": [
    "import pandas as pd\n",
    "df = pd.read_csv(\"../Dataset/employee-attrition-prediction.csv\")\n",
    "df"
   ],
   "id": "c0e19edbab17cc59",
   "outputs": [
    {
     "data": {
      "text/plain": [
       "       Unnamed: 0  Employee ID  Age  Gender  Years at Company    Job Role  \\\n",
       "0               0        52685   36    Male                13  Healthcare   \n",
       "1               1        30585   35    Male                 7   Education   \n",
       "2               2        54656   50    Male                 7   Education   \n",
       "3               3        33442   58    Male                44       Media   \n",
       "4               4        15667   39    Male                24   Education   \n",
       "...           ...          ...  ...     ...               ...         ...   \n",
       "74493       74493        37195   50  Female                12   Education   \n",
       "74494       74494         6266   18    Male                 4  Healthcare   \n",
       "74495       74495        54887   22  Female                14  Technology   \n",
       "74496       74496          861   23    Male                 8   Education   \n",
       "74497       74497        15796   56    Male                19  Technology   \n",
       "\n",
       "       Monthly Income Work-Life Balance Job Satisfaction Performance Rating  \\\n",
       "0                8029         Excellent             High            Average   \n",
       "1                4563              Good             High            Average   \n",
       "2                5583              Fair             High            Average   \n",
       "3                5525              Fair        Very High               High   \n",
       "4                4604              Good             High            Average   \n",
       "...               ...               ...              ...                ...   \n",
       "74493            4414              Fair             High            Average   \n",
       "74494            8040              Fair             High               High   \n",
       "74495            7944              Fair             High               High   \n",
       "74496            2931              Fair        Very High            Average   \n",
       "74497            6660              Good             High            Average   \n",
       "\n",
       "       ...  Number of Dependents Job Level  Company Size Company Tenure  \\\n",
       "0      ...                     1       Mid         Large             22   \n",
       "1      ...                     4     Entry        Medium             27   \n",
       "2      ...                     2    Senior        Medium             76   \n",
       "3      ...                     4     Entry        Medium             96   \n",
       "4      ...                     6       Mid         Large             45   \n",
       "...    ...                   ...       ...           ...            ...   \n",
       "74493  ...                     2    Senior         Small             35   \n",
       "74494  ...                     0    Senior        Medium             73   \n",
       "74495  ...                     2     Entry         Small             29   \n",
       "74496  ...                     0     Entry         Large              9   \n",
       "74497  ...                     3       Mid        Medium             81   \n",
       "\n",
       "      Remote Work  Leadership Opportunities Innovation Opportunities  \\\n",
       "0              No                        No                       No   \n",
       "1              No                        No                       No   \n",
       "2              No                        No                      Yes   \n",
       "3              No                        No                       No   \n",
       "4             Yes                        No                       No   \n",
       "...           ...                       ...                      ...   \n",
       "74493          No                        No                      Yes   \n",
       "74494          No                        No                       No   \n",
       "74495          No                       Yes                       No   \n",
       "74496          No                        No                       No   \n",
       "74497          No                        No                       No   \n",
       "\n",
       "      Company Reputation  Employee Recognition Attrition  \n",
       "0                   Poor                Medium    Stayed  \n",
       "1                   Good                  High      Left  \n",
       "2                   Good                   Low    Stayed  \n",
       "3                   Poor                   Low      Left  \n",
       "4                   Good                  High    Stayed  \n",
       "...                  ...                   ...       ...  \n",
       "74493               Poor             Very High      Left  \n",
       "74494               Fair                Medium      Left  \n",
       "74495               Good                Medium    Stayed  \n",
       "74496               Good                   Low      Left  \n",
       "74497               Good                   Low    Stayed  \n",
       "\n",
       "[74498 rows x 25 columns]"
      ],
      "text/html": [
       "<div>\n",
       "<style scoped>\n",
       "    .dataframe tbody tr th:only-of-type {\n",
       "        vertical-align: middle;\n",
       "    }\n",
       "\n",
       "    .dataframe tbody tr th {\n",
       "        vertical-align: top;\n",
       "    }\n",
       "\n",
       "    .dataframe thead th {\n",
       "        text-align: right;\n",
       "    }\n",
       "</style>\n",
       "<table border=\"1\" class=\"dataframe\">\n",
       "  <thead>\n",
       "    <tr style=\"text-align: right;\">\n",
       "      <th></th>\n",
       "      <th>Unnamed: 0</th>\n",
       "      <th>Employee ID</th>\n",
       "      <th>Age</th>\n",
       "      <th>Gender</th>\n",
       "      <th>Years at Company</th>\n",
       "      <th>Job Role</th>\n",
       "      <th>Monthly Income</th>\n",
       "      <th>Work-Life Balance</th>\n",
       "      <th>Job Satisfaction</th>\n",
       "      <th>Performance Rating</th>\n",
       "      <th>...</th>\n",
       "      <th>Number of Dependents</th>\n",
       "      <th>Job Level</th>\n",
       "      <th>Company Size</th>\n",
       "      <th>Company Tenure</th>\n",
       "      <th>Remote Work</th>\n",
       "      <th>Leadership Opportunities</th>\n",
       "      <th>Innovation Opportunities</th>\n",
       "      <th>Company Reputation</th>\n",
       "      <th>Employee Recognition</th>\n",
       "      <th>Attrition</th>\n",
       "    </tr>\n",
       "  </thead>\n",
       "  <tbody>\n",
       "    <tr>\n",
       "      <th>0</th>\n",
       "      <td>0</td>\n",
       "      <td>52685</td>\n",
       "      <td>36</td>\n",
       "      <td>Male</td>\n",
       "      <td>13</td>\n",
       "      <td>Healthcare</td>\n",
       "      <td>8029</td>\n",
       "      <td>Excellent</td>\n",
       "      <td>High</td>\n",
       "      <td>Average</td>\n",
       "      <td>...</td>\n",
       "      <td>1</td>\n",
       "      <td>Mid</td>\n",
       "      <td>Large</td>\n",
       "      <td>22</td>\n",
       "      <td>No</td>\n",
       "      <td>No</td>\n",
       "      <td>No</td>\n",
       "      <td>Poor</td>\n",
       "      <td>Medium</td>\n",
       "      <td>Stayed</td>\n",
       "    </tr>\n",
       "    <tr>\n",
       "      <th>1</th>\n",
       "      <td>1</td>\n",
       "      <td>30585</td>\n",
       "      <td>35</td>\n",
       "      <td>Male</td>\n",
       "      <td>7</td>\n",
       "      <td>Education</td>\n",
       "      <td>4563</td>\n",
       "      <td>Good</td>\n",
       "      <td>High</td>\n",
       "      <td>Average</td>\n",
       "      <td>...</td>\n",
       "      <td>4</td>\n",
       "      <td>Entry</td>\n",
       "      <td>Medium</td>\n",
       "      <td>27</td>\n",
       "      <td>No</td>\n",
       "      <td>No</td>\n",
       "      <td>No</td>\n",
       "      <td>Good</td>\n",
       "      <td>High</td>\n",
       "      <td>Left</td>\n",
       "    </tr>\n",
       "    <tr>\n",
       "      <th>2</th>\n",
       "      <td>2</td>\n",
       "      <td>54656</td>\n",
       "      <td>50</td>\n",
       "      <td>Male</td>\n",
       "      <td>7</td>\n",
       "      <td>Education</td>\n",
       "      <td>5583</td>\n",
       "      <td>Fair</td>\n",
       "      <td>High</td>\n",
       "      <td>Average</td>\n",
       "      <td>...</td>\n",
       "      <td>2</td>\n",
       "      <td>Senior</td>\n",
       "      <td>Medium</td>\n",
       "      <td>76</td>\n",
       "      <td>No</td>\n",
       "      <td>No</td>\n",
       "      <td>Yes</td>\n",
       "      <td>Good</td>\n",
       "      <td>Low</td>\n",
       "      <td>Stayed</td>\n",
       "    </tr>\n",
       "    <tr>\n",
       "      <th>3</th>\n",
       "      <td>3</td>\n",
       "      <td>33442</td>\n",
       "      <td>58</td>\n",
       "      <td>Male</td>\n",
       "      <td>44</td>\n",
       "      <td>Media</td>\n",
       "      <td>5525</td>\n",
       "      <td>Fair</td>\n",
       "      <td>Very High</td>\n",
       "      <td>High</td>\n",
       "      <td>...</td>\n",
       "      <td>4</td>\n",
       "      <td>Entry</td>\n",
       "      <td>Medium</td>\n",
       "      <td>96</td>\n",
       "      <td>No</td>\n",
       "      <td>No</td>\n",
       "      <td>No</td>\n",
       "      <td>Poor</td>\n",
       "      <td>Low</td>\n",
       "      <td>Left</td>\n",
       "    </tr>\n",
       "    <tr>\n",
       "      <th>4</th>\n",
       "      <td>4</td>\n",
       "      <td>15667</td>\n",
       "      <td>39</td>\n",
       "      <td>Male</td>\n",
       "      <td>24</td>\n",
       "      <td>Education</td>\n",
       "      <td>4604</td>\n",
       "      <td>Good</td>\n",
       "      <td>High</td>\n",
       "      <td>Average</td>\n",
       "      <td>...</td>\n",
       "      <td>6</td>\n",
       "      <td>Mid</td>\n",
       "      <td>Large</td>\n",
       "      <td>45</td>\n",
       "      <td>Yes</td>\n",
       "      <td>No</td>\n",
       "      <td>No</td>\n",
       "      <td>Good</td>\n",
       "      <td>High</td>\n",
       "      <td>Stayed</td>\n",
       "    </tr>\n",
       "    <tr>\n",
       "      <th>...</th>\n",
       "      <td>...</td>\n",
       "      <td>...</td>\n",
       "      <td>...</td>\n",
       "      <td>...</td>\n",
       "      <td>...</td>\n",
       "      <td>...</td>\n",
       "      <td>...</td>\n",
       "      <td>...</td>\n",
       "      <td>...</td>\n",
       "      <td>...</td>\n",
       "      <td>...</td>\n",
       "      <td>...</td>\n",
       "      <td>...</td>\n",
       "      <td>...</td>\n",
       "      <td>...</td>\n",
       "      <td>...</td>\n",
       "      <td>...</td>\n",
       "      <td>...</td>\n",
       "      <td>...</td>\n",
       "      <td>...</td>\n",
       "      <td>...</td>\n",
       "    </tr>\n",
       "    <tr>\n",
       "      <th>74493</th>\n",
       "      <td>74493</td>\n",
       "      <td>37195</td>\n",
       "      <td>50</td>\n",
       "      <td>Female</td>\n",
       "      <td>12</td>\n",
       "      <td>Education</td>\n",
       "      <td>4414</td>\n",
       "      <td>Fair</td>\n",
       "      <td>High</td>\n",
       "      <td>Average</td>\n",
       "      <td>...</td>\n",
       "      <td>2</td>\n",
       "      <td>Senior</td>\n",
       "      <td>Small</td>\n",
       "      <td>35</td>\n",
       "      <td>No</td>\n",
       "      <td>No</td>\n",
       "      <td>Yes</td>\n",
       "      <td>Poor</td>\n",
       "      <td>Very High</td>\n",
       "      <td>Left</td>\n",
       "    </tr>\n",
       "    <tr>\n",
       "      <th>74494</th>\n",
       "      <td>74494</td>\n",
       "      <td>6266</td>\n",
       "      <td>18</td>\n",
       "      <td>Male</td>\n",
       "      <td>4</td>\n",
       "      <td>Healthcare</td>\n",
       "      <td>8040</td>\n",
       "      <td>Fair</td>\n",
       "      <td>High</td>\n",
       "      <td>High</td>\n",
       "      <td>...</td>\n",
       "      <td>0</td>\n",
       "      <td>Senior</td>\n",
       "      <td>Medium</td>\n",
       "      <td>73</td>\n",
       "      <td>No</td>\n",
       "      <td>No</td>\n",
       "      <td>No</td>\n",
       "      <td>Fair</td>\n",
       "      <td>Medium</td>\n",
       "      <td>Left</td>\n",
       "    </tr>\n",
       "    <tr>\n",
       "      <th>74495</th>\n",
       "      <td>74495</td>\n",
       "      <td>54887</td>\n",
       "      <td>22</td>\n",
       "      <td>Female</td>\n",
       "      <td>14</td>\n",
       "      <td>Technology</td>\n",
       "      <td>7944</td>\n",
       "      <td>Fair</td>\n",
       "      <td>High</td>\n",
       "      <td>High</td>\n",
       "      <td>...</td>\n",
       "      <td>2</td>\n",
       "      <td>Entry</td>\n",
       "      <td>Small</td>\n",
       "      <td>29</td>\n",
       "      <td>No</td>\n",
       "      <td>Yes</td>\n",
       "      <td>No</td>\n",
       "      <td>Good</td>\n",
       "      <td>Medium</td>\n",
       "      <td>Stayed</td>\n",
       "    </tr>\n",
       "    <tr>\n",
       "      <th>74496</th>\n",
       "      <td>74496</td>\n",
       "      <td>861</td>\n",
       "      <td>23</td>\n",
       "      <td>Male</td>\n",
       "      <td>8</td>\n",
       "      <td>Education</td>\n",
       "      <td>2931</td>\n",
       "      <td>Fair</td>\n",
       "      <td>Very High</td>\n",
       "      <td>Average</td>\n",
       "      <td>...</td>\n",
       "      <td>0</td>\n",
       "      <td>Entry</td>\n",
       "      <td>Large</td>\n",
       "      <td>9</td>\n",
       "      <td>No</td>\n",
       "      <td>No</td>\n",
       "      <td>No</td>\n",
       "      <td>Good</td>\n",
       "      <td>Low</td>\n",
       "      <td>Left</td>\n",
       "    </tr>\n",
       "    <tr>\n",
       "      <th>74497</th>\n",
       "      <td>74497</td>\n",
       "      <td>15796</td>\n",
       "      <td>56</td>\n",
       "      <td>Male</td>\n",
       "      <td>19</td>\n",
       "      <td>Technology</td>\n",
       "      <td>6660</td>\n",
       "      <td>Good</td>\n",
       "      <td>High</td>\n",
       "      <td>Average</td>\n",
       "      <td>...</td>\n",
       "      <td>3</td>\n",
       "      <td>Mid</td>\n",
       "      <td>Medium</td>\n",
       "      <td>81</td>\n",
       "      <td>No</td>\n",
       "      <td>No</td>\n",
       "      <td>No</td>\n",
       "      <td>Good</td>\n",
       "      <td>Low</td>\n",
       "      <td>Stayed</td>\n",
       "    </tr>\n",
       "  </tbody>\n",
       "</table>\n",
       "<p>74498 rows × 25 columns</p>\n",
       "</div>"
      ]
     },
     "execution_count": 27,
     "metadata": {},
     "output_type": "execute_result"
    }
   ],
   "execution_count": 27
  },
  {
   "metadata": {},
   "cell_type": "markdown",
   "source": "<h2>Initial Data Exploration</h2>",
   "id": "95e60fd5103f8b9a"
  },
  {
   "metadata": {
    "ExecuteTime": {
     "end_time": "2025-03-16T04:57:46.817264Z",
     "start_time": "2025-03-16T04:57:46.776337Z"
    }
   },
   "cell_type": "code",
   "source": "df.info()",
   "id": "638d833b08313d6",
   "outputs": [
    {
     "name": "stdout",
     "output_type": "stream",
     "text": [
      "<class 'pandas.core.frame.DataFrame'>\n",
      "RangeIndex: 74498 entries, 0 to 74497\n",
      "Data columns (total 25 columns):\n",
      " #   Column                    Non-Null Count  Dtype \n",
      "---  ------                    --------------  ----- \n",
      " 0   Unnamed: 0                74498 non-null  int64 \n",
      " 1   Employee ID               74498 non-null  int64 \n",
      " 2   Age                       74498 non-null  int64 \n",
      " 3   Gender                    74498 non-null  object\n",
      " 4   Years at Company          74498 non-null  int64 \n",
      " 5   Job Role                  74498 non-null  object\n",
      " 6   Monthly Income            74498 non-null  int64 \n",
      " 7   Work-Life Balance         74498 non-null  object\n",
      " 8   Job Satisfaction          74498 non-null  object\n",
      " 9   Performance Rating        74498 non-null  object\n",
      " 10  Number of Promotions      74498 non-null  int64 \n",
      " 11  Overtime                  74498 non-null  object\n",
      " 12  Distance from Home        74498 non-null  int64 \n",
      " 13  Education Level           74498 non-null  object\n",
      " 14  Marital Status            74498 non-null  object\n",
      " 15  Number of Dependents      74498 non-null  int64 \n",
      " 16  Job Level                 74498 non-null  object\n",
      " 17  Company Size              74498 non-null  object\n",
      " 18  Company Tenure            74498 non-null  int64 \n",
      " 19  Remote Work               74498 non-null  object\n",
      " 20  Leadership Opportunities  74498 non-null  object\n",
      " 21  Innovation Opportunities  74498 non-null  object\n",
      " 22  Company Reputation        74498 non-null  object\n",
      " 23  Employee Recognition      74498 non-null  object\n",
      " 24  Attrition                 74498 non-null  object\n",
      "dtypes: int64(9), object(16)\n",
      "memory usage: 14.2+ MB\n"
     ]
    }
   ],
   "execution_count": 28
  },
  {
   "metadata": {
    "ExecuteTime": {
     "end_time": "2025-03-16T04:57:46.882491Z",
     "start_time": "2025-03-16T04:57:46.851342Z"
    }
   },
   "cell_type": "code",
   "source": "df.describe\n",
   "id": "7ba00029b838c97f",
   "outputs": [
    {
     "data": {
      "text/plain": [
       "<bound method NDFrame.describe of        Unnamed: 0  Employee ID  Age  Gender  Years at Company    Job Role  \\\n",
       "0               0        52685   36    Male                13  Healthcare   \n",
       "1               1        30585   35    Male                 7   Education   \n",
       "2               2        54656   50    Male                 7   Education   \n",
       "3               3        33442   58    Male                44       Media   \n",
       "4               4        15667   39    Male                24   Education   \n",
       "...           ...          ...  ...     ...               ...         ...   \n",
       "74493       74493        37195   50  Female                12   Education   \n",
       "74494       74494         6266   18    Male                 4  Healthcare   \n",
       "74495       74495        54887   22  Female                14  Technology   \n",
       "74496       74496          861   23    Male                 8   Education   \n",
       "74497       74497        15796   56    Male                19  Technology   \n",
       "\n",
       "       Monthly Income Work-Life Balance Job Satisfaction Performance Rating  \\\n",
       "0                8029         Excellent             High            Average   \n",
       "1                4563              Good             High            Average   \n",
       "2                5583              Fair             High            Average   \n",
       "3                5525              Fair        Very High               High   \n",
       "4                4604              Good             High            Average   \n",
       "...               ...               ...              ...                ...   \n",
       "74493            4414              Fair             High            Average   \n",
       "74494            8040              Fair             High               High   \n",
       "74495            7944              Fair             High               High   \n",
       "74496            2931              Fair        Very High            Average   \n",
       "74497            6660              Good             High            Average   \n",
       "\n",
       "       ...  Number of Dependents Job Level  Company Size Company Tenure  \\\n",
       "0      ...                     1       Mid         Large             22   \n",
       "1      ...                     4     Entry        Medium             27   \n",
       "2      ...                     2    Senior        Medium             76   \n",
       "3      ...                     4     Entry        Medium             96   \n",
       "4      ...                     6       Mid         Large             45   \n",
       "...    ...                   ...       ...           ...            ...   \n",
       "74493  ...                     2    Senior         Small             35   \n",
       "74494  ...                     0    Senior        Medium             73   \n",
       "74495  ...                     2     Entry         Small             29   \n",
       "74496  ...                     0     Entry         Large              9   \n",
       "74497  ...                     3       Mid        Medium             81   \n",
       "\n",
       "      Remote Work  Leadership Opportunities Innovation Opportunities  \\\n",
       "0              No                        No                       No   \n",
       "1              No                        No                       No   \n",
       "2              No                        No                      Yes   \n",
       "3              No                        No                       No   \n",
       "4             Yes                        No                       No   \n",
       "...           ...                       ...                      ...   \n",
       "74493          No                        No                      Yes   \n",
       "74494          No                        No                       No   \n",
       "74495          No                       Yes                       No   \n",
       "74496          No                        No                       No   \n",
       "74497          No                        No                       No   \n",
       "\n",
       "      Company Reputation  Employee Recognition Attrition  \n",
       "0                   Poor                Medium    Stayed  \n",
       "1                   Good                  High      Left  \n",
       "2                   Good                   Low    Stayed  \n",
       "3                   Poor                   Low      Left  \n",
       "4                   Good                  High    Stayed  \n",
       "...                  ...                   ...       ...  \n",
       "74493               Poor             Very High      Left  \n",
       "74494               Fair                Medium      Left  \n",
       "74495               Good                Medium    Stayed  \n",
       "74496               Good                   Low      Left  \n",
       "74497               Good                   Low    Stayed  \n",
       "\n",
       "[74498 rows x 25 columns]>"
      ]
     },
     "execution_count": 29,
     "metadata": {},
     "output_type": "execute_result"
    }
   ],
   "execution_count": 29
  },
  {
   "metadata": {
    "ExecuteTime": {
     "end_time": "2025-03-16T04:57:47.007180Z",
     "start_time": "2025-03-16T04:57:47.001655Z"
    }
   },
   "cell_type": "code",
   "source": "df.shape",
   "id": "68e4ef1893e7ebbc",
   "outputs": [
    {
     "data": {
      "text/plain": [
       "(74498, 25)"
      ]
     },
     "execution_count": 30,
     "metadata": {},
     "output_type": "execute_result"
    }
   ],
   "execution_count": 30
  },
  {
   "metadata": {
    "ExecuteTime": {
     "end_time": "2025-03-16T04:57:47.080855Z",
     "start_time": "2025-03-16T04:57:47.075534Z"
    }
   },
   "cell_type": "code",
   "source": "df.columns",
   "id": "dd6cef9f86c56ece",
   "outputs": [
    {
     "data": {
      "text/plain": [
       "Index(['Unnamed: 0', 'Employee ID', 'Age', 'Gender', 'Years at Company',\n",
       "       'Job Role', 'Monthly Income', 'Work-Life Balance', 'Job Satisfaction',\n",
       "       'Performance Rating', 'Number of Promotions', 'Overtime',\n",
       "       'Distance from Home', 'Education Level', 'Marital Status',\n",
       "       'Number of Dependents', 'Job Level', 'Company Size', 'Company Tenure',\n",
       "       'Remote Work', 'Leadership Opportunities', 'Innovation Opportunities',\n",
       "       'Company Reputation', 'Employee Recognition', 'Attrition'],\n",
       "      dtype='object')"
      ]
     },
     "execution_count": 31,
     "metadata": {},
     "output_type": "execute_result"
    }
   ],
   "execution_count": 31
  },
  {
   "metadata": {},
   "cell_type": "markdown",
   "source": "<h2>Drop Unnecessary Columns</h2>",
   "id": "ee5bcf0caebe76c6"
  },
  {
   "metadata": {
    "ExecuteTime": {
     "end_time": "2025-03-16T04:57:47.135536Z",
     "start_time": "2025-03-16T04:57:47.113472Z"
    }
   },
   "cell_type": "code",
   "source": [
    "df.drop(['Unnamed: 0', 'Employee ID'], axis=1, inplace=True)\n",
    "print(df.head())"
   ],
   "id": "760beaa9cc379d34",
   "outputs": [
    {
     "name": "stdout",
     "output_type": "stream",
     "text": [
      "   Age Gender  Years at Company    Job Role  Monthly Income Work-Life Balance  \\\n",
      "0   36   Male                13  Healthcare            8029         Excellent   \n",
      "1   35   Male                 7   Education            4563              Good   \n",
      "2   50   Male                 7   Education            5583              Fair   \n",
      "3   58   Male                44       Media            5525              Fair   \n",
      "4   39   Male                24   Education            4604              Good   \n",
      "\n",
      "  Job Satisfaction Performance Rating  Number of Promotions Overtime  ...  \\\n",
      "0             High            Average                     1      Yes  ...   \n",
      "1             High            Average                     1      Yes  ...   \n",
      "2             High            Average                     3      Yes  ...   \n",
      "3        Very High               High                     0      Yes  ...   \n",
      "4             High            Average                     0      Yes  ...   \n",
      "\n",
      "   Number of Dependents Job Level Company Size  Company Tenure Remote Work  \\\n",
      "0                     1       Mid        Large              22          No   \n",
      "1                     4     Entry       Medium              27          No   \n",
      "2                     2    Senior       Medium              76          No   \n",
      "3                     4     Entry       Medium              96          No   \n",
      "4                     6       Mid        Large              45         Yes   \n",
      "\n",
      "  Leadership Opportunities  Innovation Opportunities Company Reputation  \\\n",
      "0                       No                        No               Poor   \n",
      "1                       No                        No               Good   \n",
      "2                       No                       Yes               Good   \n",
      "3                       No                        No               Poor   \n",
      "4                       No                        No               Good   \n",
      "\n",
      "  Employee Recognition Attrition  \n",
      "0               Medium    Stayed  \n",
      "1                 High      Left  \n",
      "2                  Low    Stayed  \n",
      "3                  Low      Left  \n",
      "4                 High    Stayed  \n",
      "\n",
      "[5 rows x 23 columns]\n"
     ]
    }
   ],
   "execution_count": 32
  },
  {
   "metadata": {
    "ExecuteTime": {
     "end_time": "2025-03-16T04:57:47.157185Z",
     "start_time": "2025-03-16T04:57:47.152835Z"
    }
   },
   "cell_type": "code",
   "source": "df.shape",
   "id": "d27df4e33ecfb362",
   "outputs": [
    {
     "data": {
      "text/plain": [
       "(74498, 23)"
      ]
     },
     "execution_count": 33,
     "metadata": {},
     "output_type": "execute_result"
    }
   ],
   "execution_count": 33
  },
  {
   "metadata": {},
   "cell_type": "markdown",
   "source": "<h2>Unique Values in Selected Columns</h2>",
   "id": "e2c6d54c8ad80b72"
  },
  {
   "metadata": {
    "ExecuteTime": {
     "end_time": "2025-03-16T04:57:47.256131Z",
     "start_time": "2025-03-16T04:57:47.200081Z"
    }
   },
   "cell_type": "code",
   "source": [
    "columns_to_check = ['Gender', 'Job Role', 'Work-Life Balance', 'Job Satisfaction',\n",
    "                    'Performance Rating', 'Overtime', 'Education Level', 'Marital Status',\n",
    "                    'Job Level', 'Company Size', 'Remote Work', 'Leadership Opportunities',\n",
    "                    'Innovation Opportunities', 'Company Reputation', 'Employee Recognition', 'Attrition']\n",
    "\n",
    "print(\"Unique values in each column:\")\n",
    "for col in columns_to_check:\n",
    "    unique_values = df[col].unique()\n",
    "    print(f\"{col}: {unique_values}\\n\")\n"
   ],
   "id": "8a051ef77c58ea40",
   "outputs": [
    {
     "name": "stdout",
     "output_type": "stream",
     "text": [
      "Unique values in each column:\n",
      "Gender: ['Male' 'Female']\n",
      "\n",
      "Job Role: ['Healthcare' 'Education' 'Media' 'Technology' 'Finance']\n",
      "\n",
      "Work-Life Balance: ['Excellent' 'Good' 'Fair' 'Poor']\n",
      "\n",
      "Job Satisfaction: ['High' 'Very High' 'Medium' 'Low']\n",
      "\n",
      "Performance Rating: ['Average' 'High' 'Below Average' 'Low']\n",
      "\n",
      "Overtime: ['Yes' 'No']\n",
      "\n",
      "Education Level: ['Master’s Degree' 'Associate Degree' 'High School' 'Bachelor’s Degree'\n",
      " 'PhD']\n",
      "\n",
      "Marital Status: ['Married' 'Single' 'Divorced']\n",
      "\n",
      "Job Level: ['Mid' 'Entry' 'Senior']\n",
      "\n",
      "Company Size: ['Large' 'Medium' 'Small']\n",
      "\n",
      "Remote Work: ['No' 'Yes']\n",
      "\n",
      "Leadership Opportunities: ['No' 'Yes']\n",
      "\n",
      "Innovation Opportunities: ['No' 'Yes']\n",
      "\n",
      "Company Reputation: ['Poor' 'Good' 'Fair' 'Excellent']\n",
      "\n",
      "Employee Recognition: ['Medium' 'High' 'Low' 'Very High']\n",
      "\n",
      "Attrition: ['Stayed' 'Left']\n",
      "\n"
     ]
    }
   ],
   "execution_count": 34
  },
  {
   "metadata": {},
   "cell_type": "markdown",
   "source": "<h2>Handle Missing Values</h2>",
   "id": "1c4ca0877e68ff1e"
  },
  {
   "metadata": {
    "ExecuteTime": {
     "end_time": "2025-03-16T04:57:47.389897Z",
     "start_time": "2025-03-16T04:57:47.271631Z"
    }
   },
   "cell_type": "code",
   "source": [
    "df.fillna({\n",
    "    'Age': df['Age'].median(),\n",
    "    'Years at Company': df['Years at Company'].median(),\n",
    "    'Monthly Income': df['Monthly Income'].median(),\n",
    "    'Number of Promotions': df['Number of Promotions'].median(),\n",
    "    'Distance from Home': df['Distance from Home'].median(),\n",
    "    'Number of Dependents': df['Number of Dependents'].median(),\n",
    "    'Company Tenure': df['Company Tenure'].median(),\n",
    "\n",
    "    'Gender': df['Gender'].mode()[0],\n",
    "    'Job Role': df['Job Role'].mode()[0],\n",
    "    'Work-Life Balance': df['Work-Life Balance'].mode()[0],\n",
    "    'Job Satisfaction': df['Job Satisfaction'].mode()[0],\n",
    "    'Performance Rating': df['Performance Rating'].mode()[0],\n",
    "    'Overtime': df['Overtime'].mode()[0],\n",
    "    'Education Level': df['Education Level'].mode()[0],\n",
    "    'Marital Status': df['Marital Status'].mode()[0],\n",
    "    'Job Level': df['Job Level'].mode()[0],\n",
    "    'Company Size': df['Company Size'].mode()[0],\n",
    "    'Remote Work': df['Remote Work'].mode()[0],\n",
    "    'Leadership Opportunities': df['Leadership Opportunities'].mode()[0],\n",
    "    'Innovation Opportunities': df['Innovation Opportunities'].mode()[0],\n",
    "    'Company Reputation': df['Company Reputation'].mode()[0],\n",
    "    'Employee Recognition': df['Employee Recognition'].mode()[0],\n",
    "    'Attrition': df['Attrition'].mode()[0]\n",
    "}, inplace=True)\n"
   ],
   "id": "55ac26f2322f22e8",
   "outputs": [],
   "execution_count": 35
  },
  {
   "metadata": {
    "ExecuteTime": {
     "end_time": "2025-03-16T04:57:47.446861Z",
     "start_time": "2025-03-16T04:57:47.409585Z"
    }
   },
   "cell_type": "code",
   "source": "df.isnull().sum()",
   "id": "54207aab30694ce4",
   "outputs": [
    {
     "data": {
      "text/plain": [
       "Age                         0\n",
       "Gender                      0\n",
       "Years at Company            0\n",
       "Job Role                    0\n",
       "Monthly Income              0\n",
       "Work-Life Balance           0\n",
       "Job Satisfaction            0\n",
       "Performance Rating          0\n",
       "Number of Promotions        0\n",
       "Overtime                    0\n",
       "Distance from Home          0\n",
       "Education Level             0\n",
       "Marital Status              0\n",
       "Number of Dependents        0\n",
       "Job Level                   0\n",
       "Company Size                0\n",
       "Company Tenure              0\n",
       "Remote Work                 0\n",
       "Leadership Opportunities    0\n",
       "Innovation Opportunities    0\n",
       "Company Reputation          0\n",
       "Employee Recognition        0\n",
       "Attrition                   0\n",
       "dtype: int64"
      ]
     },
     "execution_count": 36,
     "metadata": {},
     "output_type": "execute_result"
    }
   ],
   "execution_count": 36
  },
  {
   "metadata": {},
   "cell_type": "markdown",
   "source": "<h2>Handle Duplicate Rows</h2>",
   "id": "6f34aa61fd49d600"
  },
  {
   "metadata": {
    "ExecuteTime": {
     "end_time": "2025-03-16T04:57:47.567636Z",
     "start_time": "2025-03-16T04:57:47.494372Z"
    }
   },
   "cell_type": "code",
   "source": [
    "duplicate_row = df[df.duplicated()]\n",
    "print(duplicate_row)"
   ],
   "id": "4e7873e00556dfcb",
   "outputs": [
    {
     "name": "stdout",
     "output_type": "stream",
     "text": [
      "Empty DataFrame\n",
      "Columns: [Age, Gender, Years at Company, Job Role, Monthly Income, Work-Life Balance, Job Satisfaction, Performance Rating, Number of Promotions, Overtime, Distance from Home, Education Level, Marital Status, Number of Dependents, Job Level, Company Size, Company Tenure, Remote Work, Leadership Opportunities, Innovation Opportunities, Company Reputation, Employee Recognition, Attrition]\n",
      "Index: []\n",
      "\n",
      "[0 rows x 23 columns]\n"
     ]
    }
   ],
   "execution_count": 37
  },
  {
   "metadata": {
    "ExecuteTime": {
     "end_time": "2025-03-16T04:57:47.659759Z",
     "start_time": "2025-03-16T04:57:47.600193Z"
    }
   },
   "cell_type": "code",
   "source": [
    "duplicate_count = df.duplicated().sum()\n",
    "print(f\"Total duplicate rows: {duplicate_count}\")"
   ],
   "id": "9d49f5884d0109c0",
   "outputs": [
    {
     "name": "stdout",
     "output_type": "stream",
     "text": [
      "Total duplicate rows: 0\n"
     ]
    }
   ],
   "execution_count": 38
  },
  {
   "metadata": {
    "ExecuteTime": {
     "end_time": "2025-03-16T04:57:47.759506Z",
     "start_time": "2025-03-16T04:57:47.691019Z"
    }
   },
   "cell_type": "code",
   "source": "df.drop_duplicates(inplace=True)",
   "id": "f6c03b7f4af6784e",
   "outputs": [],
   "execution_count": 39
  },
  {
   "metadata": {
    "ExecuteTime": {
     "end_time": "2025-03-16T04:57:47.841212Z",
     "start_time": "2025-03-16T04:57:47.777079Z"
    }
   },
   "cell_type": "code",
   "source": [
    "df_no_duplicates = df.drop_duplicates()\n",
    "row_count_no_duplicates = len(df_no_duplicates)\n",
    "print(\"Count of rows after removing duplicate rows: \", row_count_no_duplicates)"
   ],
   "id": "3db4aab6347931f",
   "outputs": [
    {
     "name": "stdout",
     "output_type": "stream",
     "text": [
      "Count of rows after removing duplicate rows:  74498\n"
     ]
    }
   ],
   "execution_count": 40
  },
  {
   "metadata": {},
   "cell_type": "markdown",
   "source": "<h2>Normalize Numerical Columns</h2>",
   "id": "623a598a11c4bb1"
  },
  {
   "metadata": {
    "ExecuteTime": {
     "end_time": "2025-03-16T04:57:47.862157Z",
     "start_time": "2025-03-16T04:57:47.858110Z"
    }
   },
   "cell_type": "code",
   "source": "from sklearn.preprocessing import MinMaxScaler",
   "id": "9aa562719a9b9d0",
   "outputs": [],
   "execution_count": 41
  },
  {
   "metadata": {
    "ExecuteTime": {
     "end_time": "2025-03-16T04:57:47.910154Z",
     "start_time": "2025-03-16T04:57:47.878400Z"
    }
   },
   "cell_type": "code",
   "source": [
    "numerical_cols = ['Age', 'Monthly Income', 'Years at Company', 'Distance from Home', 'Number of Promotions', 'Number of Dependents', 'Company Tenure']\n",
    "scaler = MinMaxScaler()\n",
    "df[numerical_cols] = scaler.fit_transform(df[numerical_cols])\n",
    "df.head()"
   ],
   "id": "d9f4994819735eef",
   "outputs": [
    {
     "data": {
      "text/plain": [
       "        Age Gender  Years at Company    Job Role  Monthly Income  \\\n",
       "0  0.439024   Male              0.24  Healthcare        0.455873   \n",
       "1  0.414634   Male              0.12   Education        0.223615   \n",
       "2  0.780488   Male              0.12   Education        0.291965   \n",
       "3  0.975610   Male              0.86       Media        0.288079   \n",
       "4  0.512195   Male              0.46   Education        0.226362   \n",
       "\n",
       "  Work-Life Balance Job Satisfaction Performance Rating  Number of Promotions  \\\n",
       "0         Excellent             High            Average                  0.25   \n",
       "1              Good             High            Average                  0.25   \n",
       "2              Fair             High            Average                  0.75   \n",
       "3              Fair        Very High               High                  0.00   \n",
       "4              Good             High            Average                  0.00   \n",
       "\n",
       "  Overtime  ...  Number of Dependents Job Level Company Size  Company Tenure  \\\n",
       "0      Yes  ...              0.166667       Mid        Large        0.158730   \n",
       "1      Yes  ...              0.666667     Entry       Medium        0.198413   \n",
       "2      Yes  ...              0.333333    Senior       Medium        0.587302   \n",
       "3      Yes  ...              0.666667     Entry       Medium        0.746032   \n",
       "4      Yes  ...              1.000000       Mid        Large        0.341270   \n",
       "\n",
       "  Remote Work Leadership Opportunities  Innovation Opportunities  \\\n",
       "0          No                       No                        No   \n",
       "1          No                       No                        No   \n",
       "2          No                       No                       Yes   \n",
       "3          No                       No                        No   \n",
       "4         Yes                       No                        No   \n",
       "\n",
       "  Company Reputation Employee Recognition Attrition  \n",
       "0               Poor               Medium    Stayed  \n",
       "1               Good                 High      Left  \n",
       "2               Good                  Low    Stayed  \n",
       "3               Poor                  Low      Left  \n",
       "4               Good                 High    Stayed  \n",
       "\n",
       "[5 rows x 23 columns]"
      ],
      "text/html": [
       "<div>\n",
       "<style scoped>\n",
       "    .dataframe tbody tr th:only-of-type {\n",
       "        vertical-align: middle;\n",
       "    }\n",
       "\n",
       "    .dataframe tbody tr th {\n",
       "        vertical-align: top;\n",
       "    }\n",
       "\n",
       "    .dataframe thead th {\n",
       "        text-align: right;\n",
       "    }\n",
       "</style>\n",
       "<table border=\"1\" class=\"dataframe\">\n",
       "  <thead>\n",
       "    <tr style=\"text-align: right;\">\n",
       "      <th></th>\n",
       "      <th>Age</th>\n",
       "      <th>Gender</th>\n",
       "      <th>Years at Company</th>\n",
       "      <th>Job Role</th>\n",
       "      <th>Monthly Income</th>\n",
       "      <th>Work-Life Balance</th>\n",
       "      <th>Job Satisfaction</th>\n",
       "      <th>Performance Rating</th>\n",
       "      <th>Number of Promotions</th>\n",
       "      <th>Overtime</th>\n",
       "      <th>...</th>\n",
       "      <th>Number of Dependents</th>\n",
       "      <th>Job Level</th>\n",
       "      <th>Company Size</th>\n",
       "      <th>Company Tenure</th>\n",
       "      <th>Remote Work</th>\n",
       "      <th>Leadership Opportunities</th>\n",
       "      <th>Innovation Opportunities</th>\n",
       "      <th>Company Reputation</th>\n",
       "      <th>Employee Recognition</th>\n",
       "      <th>Attrition</th>\n",
       "    </tr>\n",
       "  </thead>\n",
       "  <tbody>\n",
       "    <tr>\n",
       "      <th>0</th>\n",
       "      <td>0.439024</td>\n",
       "      <td>Male</td>\n",
       "      <td>0.24</td>\n",
       "      <td>Healthcare</td>\n",
       "      <td>0.455873</td>\n",
       "      <td>Excellent</td>\n",
       "      <td>High</td>\n",
       "      <td>Average</td>\n",
       "      <td>0.25</td>\n",
       "      <td>Yes</td>\n",
       "      <td>...</td>\n",
       "      <td>0.166667</td>\n",
       "      <td>Mid</td>\n",
       "      <td>Large</td>\n",
       "      <td>0.158730</td>\n",
       "      <td>No</td>\n",
       "      <td>No</td>\n",
       "      <td>No</td>\n",
       "      <td>Poor</td>\n",
       "      <td>Medium</td>\n",
       "      <td>Stayed</td>\n",
       "    </tr>\n",
       "    <tr>\n",
       "      <th>1</th>\n",
       "      <td>0.414634</td>\n",
       "      <td>Male</td>\n",
       "      <td>0.12</td>\n",
       "      <td>Education</td>\n",
       "      <td>0.223615</td>\n",
       "      <td>Good</td>\n",
       "      <td>High</td>\n",
       "      <td>Average</td>\n",
       "      <td>0.25</td>\n",
       "      <td>Yes</td>\n",
       "      <td>...</td>\n",
       "      <td>0.666667</td>\n",
       "      <td>Entry</td>\n",
       "      <td>Medium</td>\n",
       "      <td>0.198413</td>\n",
       "      <td>No</td>\n",
       "      <td>No</td>\n",
       "      <td>No</td>\n",
       "      <td>Good</td>\n",
       "      <td>High</td>\n",
       "      <td>Left</td>\n",
       "    </tr>\n",
       "    <tr>\n",
       "      <th>2</th>\n",
       "      <td>0.780488</td>\n",
       "      <td>Male</td>\n",
       "      <td>0.12</td>\n",
       "      <td>Education</td>\n",
       "      <td>0.291965</td>\n",
       "      <td>Fair</td>\n",
       "      <td>High</td>\n",
       "      <td>Average</td>\n",
       "      <td>0.75</td>\n",
       "      <td>Yes</td>\n",
       "      <td>...</td>\n",
       "      <td>0.333333</td>\n",
       "      <td>Senior</td>\n",
       "      <td>Medium</td>\n",
       "      <td>0.587302</td>\n",
       "      <td>No</td>\n",
       "      <td>No</td>\n",
       "      <td>Yes</td>\n",
       "      <td>Good</td>\n",
       "      <td>Low</td>\n",
       "      <td>Stayed</td>\n",
       "    </tr>\n",
       "    <tr>\n",
       "      <th>3</th>\n",
       "      <td>0.975610</td>\n",
       "      <td>Male</td>\n",
       "      <td>0.86</td>\n",
       "      <td>Media</td>\n",
       "      <td>0.288079</td>\n",
       "      <td>Fair</td>\n",
       "      <td>Very High</td>\n",
       "      <td>High</td>\n",
       "      <td>0.00</td>\n",
       "      <td>Yes</td>\n",
       "      <td>...</td>\n",
       "      <td>0.666667</td>\n",
       "      <td>Entry</td>\n",
       "      <td>Medium</td>\n",
       "      <td>0.746032</td>\n",
       "      <td>No</td>\n",
       "      <td>No</td>\n",
       "      <td>No</td>\n",
       "      <td>Poor</td>\n",
       "      <td>Low</td>\n",
       "      <td>Left</td>\n",
       "    </tr>\n",
       "    <tr>\n",
       "      <th>4</th>\n",
       "      <td>0.512195</td>\n",
       "      <td>Male</td>\n",
       "      <td>0.46</td>\n",
       "      <td>Education</td>\n",
       "      <td>0.226362</td>\n",
       "      <td>Good</td>\n",
       "      <td>High</td>\n",
       "      <td>Average</td>\n",
       "      <td>0.00</td>\n",
       "      <td>Yes</td>\n",
       "      <td>...</td>\n",
       "      <td>1.000000</td>\n",
       "      <td>Mid</td>\n",
       "      <td>Large</td>\n",
       "      <td>0.341270</td>\n",
       "      <td>Yes</td>\n",
       "      <td>No</td>\n",
       "      <td>No</td>\n",
       "      <td>Good</td>\n",
       "      <td>High</td>\n",
       "      <td>Stayed</td>\n",
       "    </tr>\n",
       "  </tbody>\n",
       "</table>\n",
       "<p>5 rows × 23 columns</p>\n",
       "</div>"
      ]
     },
     "execution_count": 42,
     "metadata": {},
     "output_type": "execute_result"
    }
   ],
   "execution_count": 42
  },
  {
   "metadata": {},
   "cell_type": "markdown",
   "source": "## Label Encoding",
   "id": "5a7cf2d1ad3180e"
  },
  {
   "metadata": {},
   "cell_type": "markdown",
   "source": "### Convert Categorical Columns to Numerical Values",
   "id": "97443a931583ce29"
  },
  {
   "metadata": {
    "ExecuteTime": {
     "end_time": "2025-03-16T04:57:47.974531Z",
     "start_time": "2025-03-16T04:57:47.969513Z"
    }
   },
   "cell_type": "code",
   "source": "from sklearn.preprocessing import LabelEncoder",
   "id": "fb0ab45d7fe117c7",
   "outputs": [],
   "execution_count": 43
  },
  {
   "metadata": {
    "ExecuteTime": {
     "end_time": "2025-03-16T04:57:48.033727Z",
     "start_time": "2025-03-16T04:57:48.029176Z"
    }
   },
   "cell_type": "code",
   "source": "label_encoder = LabelEncoder()",
   "id": "4d6300862343d29",
   "outputs": [],
   "execution_count": 44
  },
  {
   "metadata": {
    "ExecuteTime": {
     "end_time": "2025-03-16T04:57:48.270632Z",
     "start_time": "2025-03-16T04:57:48.127971Z"
    }
   },
   "cell_type": "code",
   "source": [
    "categorical_cols = ['Gender', 'Job Role', 'Work-Life Balance', 'Job Satisfaction', 'Performance Rating', 'Overtime', 'Education Level', 'Marital Status', 'Job Level', 'Company Size', 'Remote Work', 'Leadership Opportunities', 'Innovation Opportunities', 'Company Reputation', 'Employee Recognition', 'Attrition']\n",
    "\n",
    "for col in categorical_cols:\n",
    "    df[col] = label_encoder.fit_transform(df[col])\n",
    "\n",
    "print(df.head())"
   ],
   "id": "46378d41ec8b6a78",
   "outputs": [
    {
     "name": "stdout",
     "output_type": "stream",
     "text": [
      "        Age  Gender  Years at Company  Job Role  Monthly Income  \\\n",
      "0  0.439024       1              0.24         2        0.455873   \n",
      "1  0.414634       1              0.12         0        0.223615   \n",
      "2  0.780488       1              0.12         0        0.291965   \n",
      "3  0.975610       1              0.86         3        0.288079   \n",
      "4  0.512195       1              0.46         0        0.226362   \n",
      "\n",
      "   Work-Life Balance  Job Satisfaction  Performance Rating  \\\n",
      "0                  0                 0                   0   \n",
      "1                  2                 0                   0   \n",
      "2                  1                 0                   0   \n",
      "3                  1                 3                   2   \n",
      "4                  2                 0                   0   \n",
      "\n",
      "   Number of Promotions  Overtime  ...  Number of Dependents  Job Level  \\\n",
      "0                  0.25         1  ...              0.166667          1   \n",
      "1                  0.25         1  ...              0.666667          0   \n",
      "2                  0.75         1  ...              0.333333          2   \n",
      "3                  0.00         1  ...              0.666667          0   \n",
      "4                  0.00         1  ...              1.000000          1   \n",
      "\n",
      "   Company Size  Company Tenure  Remote Work  Leadership Opportunities  \\\n",
      "0             0        0.158730            0                         0   \n",
      "1             1        0.198413            0                         0   \n",
      "2             1        0.587302            0                         0   \n",
      "3             1        0.746032            0                         0   \n",
      "4             0        0.341270            1                         0   \n",
      "\n",
      "   Innovation Opportunities  Company Reputation  Employee Recognition  \\\n",
      "0                         0                   3                     2   \n",
      "1                         0                   2                     0   \n",
      "2                         1                   2                     1   \n",
      "3                         0                   3                     1   \n",
      "4                         0                   2                     0   \n",
      "\n",
      "   Attrition  \n",
      "0          1  \n",
      "1          0  \n",
      "2          1  \n",
      "3          0  \n",
      "4          1  \n",
      "\n",
      "[5 rows x 23 columns]\n"
     ]
    }
   ],
   "execution_count": 45
  },
  {
   "metadata": {
    "ExecuteTime": {
     "end_time": "2025-03-16T04:57:48.283700Z",
     "start_time": "2025-03-16T04:57:48.278254Z"
    }
   },
   "cell_type": "code",
   "source": "df.shape",
   "id": "ae27f9f0860c919",
   "outputs": [
    {
     "data": {
      "text/plain": [
       "(74498, 23)"
      ]
     },
     "execution_count": 46,
     "metadata": {},
     "output_type": "execute_result"
    }
   ],
   "execution_count": 46
  },
  {
   "metadata": {},
   "cell_type": "markdown",
   "source": "## Outlier Handling Using IQR Method",
   "id": "22d2745d6acf0d48"
  },
  {
   "metadata": {
    "ExecuteTime": {
     "end_time": "2025-03-16T04:57:48.363645Z",
     "start_time": "2025-03-16T04:57:48.303700Z"
    }
   },
   "cell_type": "code",
   "source": [
    "numerical_cols = ['Age', 'Years at Company', 'Monthly Income', 'Number of Promotions', 'Distance from Home', 'Number of Dependents', 'Company Tenure']\n",
    "\n",
    "for col in numerical_cols:\n",
    "    Q1 = df[col].quantile(0.25)\n",
    "    Q3 = df[col].quantile(0.75)\n",
    "    IQR = Q3 - Q1\n",
    "    lower_bound = Q1 - 1.5 * IQR\n",
    "    upper_bound = Q3 + 1.5 * IQR\n",
    "\n",
    "    df = df[(df[col] > lower_bound) & (df[col] < upper_bound)]"
   ],
   "id": "187225a688a757d3",
   "outputs": [],
   "execution_count": 47
  },
  {
   "metadata": {
    "ExecuteTime": {
     "end_time": "2025-03-16T04:57:48.385240Z",
     "start_time": "2025-03-16T04:57:48.379568Z"
    }
   },
   "cell_type": "code",
   "source": "df.shape",
   "id": "5b40f969de1a0c7b",
   "outputs": [
    {
     "data": {
      "text/plain": [
       "(73915, 23)"
      ]
     },
     "execution_count": 48,
     "metadata": {},
     "output_type": "execute_result"
    }
   ],
   "execution_count": 48
  },
  {
   "metadata": {},
   "cell_type": "markdown",
   "source": "<h2>Save the Preprocessed Dataset</h2>",
   "id": "28e71965e1ef9fb0"
  },
  {
   "metadata": {
    "ExecuteTime": {
     "end_time": "2025-03-16T04:57:49.031475Z",
     "start_time": "2025-03-16T04:57:48.478533Z"
    }
   },
   "cell_type": "code",
   "source": "df.to_csv(\"../Dataset/after_preprocessing.csv\", index=False)",
   "id": "d510cb617a54f186",
   "outputs": [],
   "execution_count": 49
  },
  {
   "metadata": {},
   "cell_type": "markdown",
   "source": "<h2>Feature Engineering</h2>",
   "id": "ea936d614074bd33"
  },
  {
   "metadata": {
    "ExecuteTime": {
     "end_time": "2025-03-16T04:57:49.065720Z",
     "start_time": "2025-03-16T04:57:49.037928Z"
    }
   },
   "cell_type": "code",
   "source": [
    "df['Experience'] = df['Years at Company'] + df['Company Tenure']\n",
    "df['High Income'] = df['Monthly Income'].apply(lambda x: 1 if x > 0.5 else 0)\n",
    "df['Promotion_Frequency'] = df['Number of Promotions'] / (df['Years at Company'] + 1)\n",
    "\n",
    "df.drop(['Company Tenure', 'Years at Company', 'Monthly Income'], axis=1, inplace=True)\n",
    "df.shape"
   ],
   "id": "b4e56c01ebcd29b",
   "outputs": [
    {
     "data": {
      "text/plain": [
       "(73915, 23)"
      ]
     },
     "execution_count": 50,
     "metadata": {},
     "output_type": "execute_result"
    }
   ],
   "execution_count": 50
  },
  {
   "metadata": {},
   "cell_type": "markdown",
   "source": "<h2>Save the Feature Engineering Dataset</h2>",
   "id": "3bdef4f013bb30d1"
  },
  {
   "metadata": {
    "ExecuteTime": {
     "end_time": "2025-03-16T04:57:49.561836Z",
     "start_time": "2025-03-16T04:57:49.081096Z"
    }
   },
   "cell_type": "code",
   "source": "df.to_csv(\"../Dataset/after_feature_engineering.csv\", index=False)",
   "id": "e835f15953b95bfb",
   "outputs": [],
   "execution_count": 51
  }
 ],
 "metadata": {
  "kernelspec": {
   "display_name": "Python 3",
   "language": "python",
   "name": "python3"
  },
  "language_info": {
   "codemirror_mode": {
    "name": "ipython",
    "version": 2
   },
   "file_extension": ".py",
   "mimetype": "text/x-python",
   "name": "python",
   "nbconvert_exporter": "python",
   "pygments_lexer": "ipython2",
   "version": "2.7.6"
  }
 },
 "nbformat": 4,
 "nbformat_minor": 5
}
