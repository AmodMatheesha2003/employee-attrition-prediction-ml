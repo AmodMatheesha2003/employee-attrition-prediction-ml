{
 "cells": [
  {
   "metadata": {},
   "cell_type": "markdown",
   "source": "<h1 style=\"color:blue; text-align:center;\">Decision Tree</h1>\n",
   "id": "b7af699230241548"
  },
  {
   "metadata": {},
   "cell_type": "markdown",
   "source": "<h2>Load the Preprocessed Dataset</h2>",
   "id": "d72a3bc735e6e8dc"
  },
  {
   "metadata": {},
   "cell_type": "code",
   "outputs": [],
   "execution_count": null,
   "source": [
    "import pandas as pd\n",
    "import matplotlib.pyplot as plt\n",
    "df = pd.read_csv(\"../Dataset/after_preprocessing.csv\")\n",
    "df"
   ],
   "id": "cc0cf6502ebc3493"
  },
  {
   "metadata": {},
   "cell_type": "markdown",
   "source": "<h2>Split the Dataset into Training and Testing Sets</h2>",
   "id": "b5bfdb4a7d1ffec2"
  },
  {
   "metadata": {},
   "cell_type": "code",
   "outputs": [],
   "execution_count": null,
   "source": "from sklearn.model_selection import train_test_split",
   "id": "2060ab78bc22b92e"
  },
  {
   "metadata": {},
   "cell_type": "code",
   "outputs": [],
   "execution_count": null,
   "source": [
    "X = df.drop(columns=['Attrition'])\n",
    "y = df['Attrition']\n",
    "X_train, X_test, y_train, y_test = train_test_split(X, y, test_size=0.2, random_state=42)\n",
    "X_train.shape, y_train.shape, X_test.shape, y_test.shape"
   ],
   "id": "bbf7c978c86b077f"
  },
  {
   "metadata": {},
   "cell_type": "markdown",
   "source": "<h2>Train a Decision Tree Classifier</h2>",
   "id": "3fdec00c475deba"
  },
  {
   "metadata": {},
   "cell_type": "code",
   "outputs": [],
   "execution_count": null,
   "source": [
    "from sklearn.tree import DecisionTreeClassifier\n",
    "from sklearn.metrics import accuracy_score, confusion_matrix, classification_report\n",
    "\n",
    "dt_classifier = DecisionTreeClassifier(random_state=42)"
   ],
   "id": "f5920aa273faf3e8"
  },
  {
   "metadata": {},
   "cell_type": "code",
   "outputs": [],
   "execution_count": null,
   "source": [
    "dt_classifier.fit(X_train, y_train)\n",
    "y_pred = dt_classifier.predict(X_test)\n",
    "y_pred.shape"
   ],
   "id": "ab69c806bfaf3fa7"
  },
  {
   "metadata": {},
   "cell_type": "markdown",
   "source": "<h2>Evaluate the Decision Tree Classifier</h2>",
   "id": "da563c2e5e1730e"
  },
  {
   "metadata": {},
   "cell_type": "code",
   "outputs": [],
   "execution_count": null,
   "source": [
    "accuracy = accuracy_score(y_test, y_pred)\n",
    "\n",
    "print(f'Accuracy: {accuracy * 100:.2f}%')\n",
    "print('Confusion Matrix:')\n",
    "conf_matrix = confusion_matrix(y_test, y_pred)\n",
    "print(conf_matrix)"
   ],
   "id": "94b24c316568af53"
  },
  {
   "metadata": {},
   "cell_type": "code",
   "outputs": [],
   "execution_count": null,
   "source": [
    "TN = conf_matrix[0,0]\n",
    "FP = conf_matrix[0,1]\n",
    "FN = conf_matrix[1,0]\n",
    "TP = conf_matrix[1,1]\n",
    "\n",
    "print(\"True Negative:\",TN)\n",
    "print(\"Flase Postive:\",FP)\n",
    "print(\"Flase Negative:\",FN)\n",
    "print(\"True Postive:\",TP)"
   ],
   "id": "5e0e62d71b3ea29e"
  },
  {
   "metadata": {},
   "cell_type": "code",
   "outputs": [],
   "execution_count": null,
   "source": [
    "class_report = classification_report(y_test, y_pred)\n",
    "print('Classification Report:')\n",
    "print(class_report)"
   ],
   "id": "a3b65b19ecafd0a4"
  },
  {
   "metadata": {},
   "cell_type": "markdown",
   "source": "<h2>Feature Importance in Decision Tree</h2>",
   "id": "df5c841d78d2c7bf"
  },
  {
   "metadata": {},
   "cell_type": "code",
   "outputs": [],
   "execution_count": null,
   "source": [
    "importance = dt_classifier.feature_importances_\n",
    "plt.barh(X.columns, importance)\n",
    "plt.xlabel('Feature Importance')\n",
    "plt.ylabel('Features')\n",
    "plt.title('Feature Importance in Decision Tree')\n",
    "plt.show()"
   ],
   "id": "ffcf670847899630"
  },
  {
   "metadata": {},
   "cell_type": "markdown",
   "source": "<h2>Visualize the Decision Tree</h2>",
   "id": "56653972dcf7d272"
  },
  {
   "metadata": {},
   "cell_type": "code",
   "outputs": [],
   "execution_count": null,
   "source": "from sklearn.tree import plot_tree",
   "id": "92b727d15674040b"
  },
  {
   "metadata": {},
   "cell_type": "code",
   "outputs": [],
   "execution_count": null,
   "source": [
    "plt.figure(figsize=(20,10))\n",
    "plot_tree(dt_classifier, filled=True)\n",
    "plt.show()"
   ],
   "id": "773a1f219591781f"
  },
  {
   "metadata": {},
   "cell_type": "markdown",
   "source": "<h2>Train a Decision Tree Classifier with Entropy Criterion</h2>",
   "id": "a8e9c69ef3478be3"
  },
  {
   "metadata": {},
   "cell_type": "code",
   "outputs": [],
   "execution_count": null,
   "source": [
    "dt_classifier2 = DecisionTreeClassifier(criterion='entropy', random_state=42)\n",
    "dt_classifier2.fit(X_train, y_train)\n"
   ],
   "id": "51f088360a686eee"
  },
  {
   "metadata": {},
   "cell_type": "code",
   "outputs": [],
   "execution_count": null,
   "source": [
    "y_pred2 = dt_classifier2.predict(X_test)\n",
    "y_pred2"
   ],
   "id": "2bad5ebe8269ef02"
  },
  {
   "metadata": {},
   "cell_type": "code",
   "outputs": [],
   "execution_count": null,
   "source": "print(classification_report(y_test,y_pred2))",
   "id": "51fd8124e3870640"
  },
  {
   "metadata": {},
   "cell_type": "markdown",
   "source": "<h2>Feature Selection with Chi-Square and Mutual Information</h2>",
   "id": "4201f68b633a2a04"
  },
  {
   "metadata": {},
   "cell_type": "code",
   "outputs": [],
   "execution_count": null,
   "source": [
    "from sklearn.feature_selection import SelectKBest, chi2, mutual_info_classif\n",
    "from sklearn.tree import DecisionTreeClassifier\n",
    "from sklearn.metrics import accuracy_score\n",
    "import numpy as np\n",
    "import matplotlib.pyplot as plt"
   ],
   "id": "6422a32ccc10ba66"
  },
  {
   "metadata": {},
   "cell_type": "code",
   "outputs": [],
   "execution_count": null,
   "source": [
    "\n",
    "k_values = list(range(1, X_train.shape[1] + 1))\n",
    "\n",
    "\n",
    "accuracy_chi2 = []\n",
    "accuracy_mi = []\n",
    "\n",
    "\n",
    "for k in k_values:\n",
    "\n",
    "    selector_chi2 = SelectKBest(score_func=chi2, k=k)\n",
    "    X_train_selected_chi2 = selector_chi2.fit_transform(X_train, y_train)\n",
    "    X_test_selected_chi2 = selector_chi2.transform(X_test)\n",
    "\n",
    "    dt_classifier = DecisionTreeClassifier(random_state=42)\n",
    "    dt_classifier.fit(X_train_selected_chi2, y_train)\n",
    "\n",
    "    y_pred_chi2 = dt_classifier.predict(X_test_selected_chi2)\n",
    "    accuracy_chi2.append(accuracy_score(y_test, y_pred_chi2))\n",
    "\n",
    "    selector_mi = SelectKBest(score_func=mutual_info_classif, k=k)\n",
    "    X_train_selected_mi = selector_mi.fit_transform(X_train, y_train)\n",
    "    X_test_selected_mi = selector_mi.transform(X_test)\n",
    "\n",
    "    dt_classifier.fit(X_train_selected_mi, y_train)\n",
    "\n",
    "    y_pred_mi = dt_classifier.predict(X_test_selected_mi)\n",
    "    accuracy_mi.append(accuracy_score(y_test, y_pred_mi))\n",
    "\n",
    "best_k_chi2 = k_values[np.argmax(accuracy_chi2)]\n",
    "best_k_mi = k_values[np.argmax(accuracy_mi)]\n",
    "\n",
    "print(\"Best k for Chi-Square Feature Selection:\", best_k_chi2)\n",
    "print(\"Best k for Mutual Information Feature Selection:\", best_k_mi)\n",
    "\n",
    "plt.figure(figsize=(10, 5))\n",
    "plt.plot(k_values, accuracy_chi2, marker='o', label=\"Chi-Square\")\n",
    "plt.plot(k_values, accuracy_mi, marker='s', label=\"Mutual Information\")\n",
    "plt.xlabel(\"Number of Features (k)\")\n",
    "plt.ylabel(\"Accuracy\")\n",
    "plt.title(\"Feature Selection Impact on Decision Tree Accuracy\")\n",
    "plt.legend()\n",
    "plt.show()"
   ],
   "id": "4e731e5678dc5144"
  },
  {
   "metadata": {},
   "cell_type": "code",
   "outputs": [],
   "execution_count": null,
   "source": [
    "k = best_k_chi2\n",
    "selector_chi2 = SelectKBest(score_func=chi2, k=k)\n",
    "x_train_selected_chi2 = selector_chi2.fit_transform(X_train, y_train)\n",
    "x_test_selected_chi2 = selector_chi2.transform(X_test)\n",
    "\n",
    "dt_classifier = DecisionTreeClassifier(random_state=42)\n",
    "dt_classifier.fit(x_train_selected_chi2, y_train)\n",
    "\n",
    "y_pred_chi2 = dt_classifier.predict(x_test_selected_chi2)\n",
    "\n",
    "accuracy_chi2 = accuracy_score(y_test, y_pred_chi2)\n",
    "print(\"Decision Tree Accuracy after Chi-Square feature selection:\", accuracy_chi2)"
   ],
   "id": "8f76c8642b72109b"
  },
  {
   "metadata": {},
   "cell_type": "code",
   "outputs": [],
   "execution_count": null,
   "source": [
    "from sklearn.metrics import confusion_matrix\n",
    "from sklearn.metrics import classification_report\n",
    "\n",
    "conf_matrix_chi2 = confusion_matrix(y_test, y_pred_chi2)\n",
    "print(\"Confusion Matrix after Chi-Square feature selection:\")\n",
    "print(conf_matrix_chi2)\n",
    "\n",
    "\n",
    "class_report_chi2 = classification_report(y_test, y_pred_chi2)\n",
    "print(\"Classification Report after Chi-Square feature selection:\")\n",
    "print(class_report_chi2)"
   ],
   "id": "18dc89360eae1d6b"
  },
  {
   "metadata": {},
   "cell_type": "code",
   "outputs": [],
   "execution_count": null,
   "source": [
    "selected_features_chi2 = selector_chi2.get_support(indices=True)\n",
    "\n",
    "selected_feature_names_chi2 = X_train.columns[selected_features_chi2]\n",
    "\n",
    "print(\"Selected Features (Chi-Square):\", list(selected_feature_names_chi2))"
   ],
   "id": "afd2df3b89a296f2"
  },
  {
   "metadata": {},
   "cell_type": "code",
   "outputs": [],
   "execution_count": null,
   "source": [
    "k = best_k_mi\n",
    "\n",
    "selector_mi = SelectKBest(score_func=mutual_info_classif, k=k)\n",
    "x_train_selected_mi = selector_mi.fit_transform(X_train, y_train)\n",
    "x_test_selected_mi = selector_mi.transform(X_test)\n",
    "\n",
    "dt_classifier.fit(x_train_selected_mi, y_train)\n",
    "\n",
    "y_pred_mi = dt_classifier.predict(x_test_selected_mi)\n",
    "\n",
    "accuracy_mi = accuracy_score(y_test, y_pred_mi)\n",
    "print(\"Decision Tree Accuracy after Mutual Information feature selection:\", accuracy_mi)"
   ],
   "id": "2606c3dbbeb1959c"
  },
  {
   "metadata": {},
   "cell_type": "code",
   "outputs": [],
   "execution_count": null,
   "source": [
    "selected_features_mi = selector_mi.get_support(indices=True)\n",
    "\n",
    "selected_feature_names_mi = X_train.columns[selected_features_mi]\n",
    "\n",
    "print(\"Selected Features (Mutual Information):\", list(selected_feature_names_mi))"
   ],
   "id": "49a6249769c480c7"
  },
  {
   "metadata": {},
   "cell_type": "markdown",
   "source": "<h2>ROC Curve for Mutual Information in Decision Tree</h2>",
   "id": "fe7c3d9b1140fc18"
  },
  {
   "metadata": {},
   "cell_type": "code",
   "outputs": [],
   "execution_count": null,
   "source": [
    "from sklearn.metrics import roc_curve, auc\n",
    "import matplotlib.pyplot as plt\n",
    "\n",
    "y_pred_proba = dt_classifier.predict_proba(x_test_selected_mi)[:, 1]\n",
    "\n",
    "fpr, tpr, thresholds = roc_curve(y_test, y_pred_proba)\n",
    "roc_auc = auc(fpr, tpr)\n",
    "\n",
    "plt.figure(figsize=(8, 6))\n",
    "plt.plot(fpr, tpr, label=f'ROC Curve (AUC = {roc_auc:.2f})')\n",
    "plt.plot([0, 1], [0, 1], linestyle='--', color='gray', label='Random Guess')\n",
    "plt.xlabel('False Positive Rate')\n",
    "plt.ylabel('True Positive Rate')\n",
    "plt.title('ROC-AUC Curve for Decision Tree')\n",
    "plt.legend()\n",
    "plt.show()"
   ],
   "id": "cad180e0949e7ef8"
  },
  {
   "metadata": {},
   "cell_type": "code",
   "outputs": [],
   "execution_count": null,
   "source": "",
   "id": "ef9782ffd0d3b1d5"
  }
 ],
 "metadata": {
  "kernelspec": {
   "display_name": "Python 3",
   "language": "python",
   "name": "python3"
  },
  "language_info": {
   "codemirror_mode": {
    "name": "ipython",
    "version": 2
   },
   "file_extension": ".py",
   "mimetype": "text/x-python",
   "name": "python",
   "nbconvert_exporter": "python",
   "pygments_lexer": "ipython2",
   "version": "2.7.6"
  }
 },
 "nbformat": 4,
 "nbformat_minor": 5
}
