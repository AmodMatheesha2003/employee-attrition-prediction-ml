{
 "cells": [
  {
   "cell_type": "code",
   "id": "initial_id",
   "metadata": {
    "collapsed": true,
    "ExecuteTime": {
     "end_time": "2025-03-13T12:57:46.088619Z",
     "start_time": "2025-03-13T12:57:44.949656Z"
    }
   },
   "source": [
    "import pandas as pd\n",
    "from sklearn.model_selection import train_test_split\n",
    "from sklearn.preprocessing import StandardScaler\n",
    "from sklearn.neighbors import KNeighborsClassifier\n",
    "from sklearn.metrics import accuracy_score, classification_report, confusion_matrix\n",
    "\n",
    "df = pd.read_csv(\"../Dataset/after_preprocessing.csv\")\n",
    "\n",
    "df['Experience'] = df['Years at Company'] + df['Company Tenure']\n",
    "df['High Income'] = df['Monthly Income'].apply(lambda x: 1 if x > 0.5 else 0)\n",
    "df['Promotion_Frequency'] = df['Number of Promotions'] / (df['Years at Company'] + 1)\n",
    "\n",
    "df.drop(['Company Tenure', 'Years at Company', 'Monthly Income'], axis=1, inplace=True)\n"
   ],
   "outputs": [
    {
     "name": "stdout",
     "output_type": "stream",
     "text": [
      "KNN Accuracy: 0.6711\n",
      "Classification Report:\n",
      "              precision    recall  f1-score   support\n",
      "\n",
      "           0       0.65      0.64      0.65      6971\n",
      "           1       0.69      0.70      0.69      7812\n",
      "\n",
      "    accuracy                           0.67     14783\n",
      "   macro avg       0.67      0.67      0.67     14783\n",
      "weighted avg       0.67      0.67      0.67     14783\n",
      "\n",
      "Confusion Matrix:\n",
      "[[4490 2481]\n",
      " [2381 5431]]\n"
     ]
    }
   ],
   "execution_count": 14
  },
  {
   "metadata": {
    "ExecuteTime": {
     "end_time": "2025-03-13T13:01:51.115944Z",
     "start_time": "2025-03-13T13:01:51.064611Z"
    }
   },
   "cell_type": "code",
   "source": [
    "X = df.drop(columns=['Attrition'])\n",
    "y = df['Attrition']\n",
    "\n",
    "X_train, X_test, y_train, y_test = train_test_split(X, y, test_size=0.2, random_state=42)\n",
    "\n",
    "scaler = StandardScaler()\n",
    "X_train = scaler.fit_transform(X_train)\n",
    "X_test = scaler.transform(X_test)"
   ],
   "id": "b2c78c013f0b5061",
   "outputs": [],
   "execution_count": 17
  },
  {
   "metadata": {},
   "cell_type": "markdown",
   "source": "# KNN",
   "id": "9358dafb4320ffa1"
  },
  {
   "metadata": {
    "ExecuteTime": {
     "end_time": "2025-03-13T13:01:58.483620Z",
     "start_time": "2025-03-13T13:01:57.377681Z"
    }
   },
   "cell_type": "code",
   "source": [
    "knn = KNeighborsClassifier(n_neighbors=29)\n",
    "knn.fit(X_train, y_train)\n",
    "\n",
    "y_pred = knn.predict(X_test)\n",
    "\n",
    "accuracy = accuracy_score(y_test, y_pred)\n",
    "print(f\"KNN Accuracy: {accuracy:.4f}\")\n",
    "\n",
    "print(\"Classification Report:\")\n",
    "print(classification_report(y_test, y_pred))\n",
    "\n",
    "print(\"Confusion Matrix:\")\n",
    "print(confusion_matrix(y_test, y_pred))"
   ],
   "id": "99c94d3043e3f61f",
   "outputs": [
    {
     "name": "stdout",
     "output_type": "stream",
     "text": [
      "KNN Accuracy: 0.7070\n",
      "Classification Report:\n",
      "              precision    recall  f1-score   support\n",
      "\n",
      "           0       0.69      0.69      0.69      6971\n",
      "           1       0.72      0.72      0.72      7812\n",
      "\n",
      "    accuracy                           0.71     14783\n",
      "   macro avg       0.71      0.71      0.71     14783\n",
      "weighted avg       0.71      0.71      0.71     14783\n",
      "\n",
      "Confusion Matrix:\n",
      "[[4799 2172]\n",
      " [2159 5653]]\n"
     ]
    }
   ],
   "execution_count": 18
  }
 ],
 "metadata": {
  "kernelspec": {
   "display_name": "Python 3",
   "language": "python",
   "name": "python3"
  },
  "language_info": {
   "codemirror_mode": {
    "name": "ipython",
    "version": 2
   },
   "file_extension": ".py",
   "mimetype": "text/x-python",
   "name": "python",
   "nbconvert_exporter": "python",
   "pygments_lexer": "ipython2",
   "version": "2.7.6"
  }
 },
 "nbformat": 4,
 "nbformat_minor": 5
}
