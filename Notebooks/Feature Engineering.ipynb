{
 "cells": [
  {
   "cell_type": "code",
   "id": "initial_id",
   "metadata": {
    "collapsed": true,
    "ExecuteTime": {
     "end_time": "2025-03-13T12:57:46.088619Z",
     "start_time": "2025-03-13T12:57:44.949656Z"
    }
   },
   "source": [
    "import pandas as pd\n",
    "from sklearn.model_selection import train_test_split\n",
    "from sklearn.preprocessing import StandardScaler\n",
    "from sklearn.neighbors import KNeighborsClassifier\n",
    "from sklearn.metrics import accuracy_score, classification_report, confusion_matrix\n",
    "\n",
    "df = pd.read_csv(\"../Dataset/after_preprocessing.csv\")\n",
    "\n",
    "df['Experience'] = df['Years at Company'] + df['Company Tenure']\n",
    "df['High Income'] = df['Monthly Income'].apply(lambda x: 1 if x > 0.5 else 0)\n",
    "df['Promotion_Frequency'] = df['Number of Promotions'] / (df['Years at Company'] + 1)\n",
    "\n",
    "df.drop(['Company Tenure', 'Years at Company', 'Monthly Income'], axis=1, inplace=True)\n"
   ],
   "outputs": [
    {
     "name": "stdout",
     "output_type": "stream",
     "text": [
      "KNN Accuracy: 0.6711\n",
      "Classification Report:\n",
      "              precision    recall  f1-score   support\n",
      "\n",
      "           0       0.65      0.64      0.65      6971\n",
      "           1       0.69      0.70      0.69      7812\n",
      "\n",
      "    accuracy                           0.67     14783\n",
      "   macro avg       0.67      0.67      0.67     14783\n",
      "weighted avg       0.67      0.67      0.67     14783\n",
      "\n",
      "Confusion Matrix:\n",
      "[[4490 2481]\n",
      " [2381 5431]]\n"
     ]
    }
   ],
   "execution_count": 14
  },
  {
   "metadata": {
    "ExecuteTime": {
     "end_time": "2025-03-13T13:01:51.115944Z",
     "start_time": "2025-03-13T13:01:51.064611Z"
    }
   },
   "cell_type": "code",
   "source": [
    "X = df.drop(columns=['Attrition'])\n",
    "y = df['Attrition']\n",
    "\n",
    "X_train, X_test, y_train, y_test = train_test_split(X, y, test_size=0.2, random_state=42)\n",
    "\n",
    "scaler = StandardScaler()\n",
    "X_train = scaler.fit_transform(X_train)\n",
    "X_test = scaler.transform(X_test)"
   ],
   "id": "b2c78c013f0b5061",
   "outputs": [],
   "execution_count": 17
  },
  {
   "metadata": {},
   "cell_type": "markdown",
   "source": "# KNN",
   "id": "9358dafb4320ffa1"
  },
  {
   "metadata": {
    "ExecuteTime": {
     "end_time": "2025-03-13T13:06:57.083885Z",
     "start_time": "2025-03-13T13:06:56.012040Z"
    }
   },
   "cell_type": "code",
   "source": [
    "knn = KNeighborsClassifier(n_neighbors=29)\n",
    "knn.fit(X_train, y_train)\n",
    "\n",
    "y_pred_knn = knn.predict(X_test)\n",
    "\n",
    "accuracy = accuracy_score(y_test, y_pred_knn)\n",
    "print(f\"KNN Accuracy: {accuracy:.4f}\")\n",
    "\n",
    "print(\"Classification Report:\")\n",
    "print(classification_report(y_test, y_pred_knn))\n",
    "\n",
    "print(\"Confusion Matrix:\")\n",
    "print(confusion_matrix(y_test, y_pred_knn))"
   ],
   "id": "99c94d3043e3f61f",
   "outputs": [
    {
     "name": "stdout",
     "output_type": "stream",
     "text": [
      "KNN Accuracy: 0.7070\n",
      "Classification Report:\n",
      "              precision    recall  f1-score   support\n",
      "\n",
      "           0       0.69      0.69      0.69      6971\n",
      "           1       0.72      0.72      0.72      7812\n",
      "\n",
      "    accuracy                           0.71     14783\n",
      "   macro avg       0.71      0.71      0.71     14783\n",
      "weighted avg       0.71      0.71      0.71     14783\n",
      "\n",
      "Confusion Matrix:\n",
      "[[4799 2172]\n",
      " [2159 5653]]\n"
     ]
    }
   ],
   "execution_count": 19
  },
  {
   "metadata": {},
   "cell_type": "markdown",
   "source": "# Logistic Regression",
   "id": "f3a6929bc809fcf"
  },
  {
   "metadata": {
    "ExecuteTime": {
     "end_time": "2025-03-13T13:14:12.142380Z",
     "start_time": "2025-03-13T13:14:12.092417Z"
    }
   },
   "cell_type": "code",
   "source": [
    "from sklearn.linear_model import LogisticRegression\n",
    "log_reg = LogisticRegression(random_state=42)\n",
    "log_reg.fit(X_train, y_train)\n",
    "\n",
    "y_pred = log_reg.predict(X_test)\n",
    "\n",
    "accuracy = accuracy_score(y_test, y_pred)\n",
    "print(f\"Logistic Regression Accuracy: {accuracy:.4f}\")\n",
    "\n",
    "print(\"Classification Report:\")\n",
    "print(classification_report(y_test, y_pred))\n",
    "\n",
    "print(\"Confusion Matrix:\")\n",
    "print(confusion_matrix(y_test, y_pred))"
   ],
   "id": "b34cc4e3a77f4362",
   "outputs": [
    {
     "name": "stdout",
     "output_type": "stream",
     "text": [
      "Logistic Regression Accuracy: 0.7139\n",
      "Classification Report:\n",
      "              precision    recall  f1-score   support\n",
      "\n",
      "           0       0.70      0.69      0.70      6971\n",
      "           1       0.73      0.73      0.73      7812\n",
      "\n",
      "    accuracy                           0.71     14783\n",
      "   macro avg       0.71      0.71      0.71     14783\n",
      "weighted avg       0.71      0.71      0.71     14783\n",
      "\n",
      "Confusion Matrix:\n",
      "[[4826 2145]\n",
      " [2085 5727]]\n"
     ]
    }
   ],
   "execution_count": 24
  },
  {
   "metadata": {},
   "cell_type": "markdown",
   "source": "# SVM",
   "id": "41710643e672c453"
  },
  {
   "metadata": {
    "ExecuteTime": {
     "end_time": "2025-03-13T13:19:01.068297Z",
     "start_time": "2025-03-13T13:16:03.654054Z"
    }
   },
   "cell_type": "code",
   "source": [
    "from sklearn.svm import SVC\n",
    "svm_model = SVC(kernel='rbf', random_state=42)  # You can try 'linear', 'poly', 'sigmoid'\n",
    "svm_model.fit(X_train, y_train)\n",
    "\n",
    "y_pred = svm_model.predict(X_test)\n",
    "\n",
    "accuracy = accuracy_score(y_test, y_pred)\n",
    "print(f\"SVM Accuracy: {accuracy:.4f}\")\n",
    "\n",
    "print(\"Classification Report:\")\n",
    "print(classification_report(y_test, y_pred))\n",
    "\n",
    "print(\"Confusion Matrix:\")\n",
    "print(confusion_matrix(y_test, y_pred))"
   ],
   "id": "e44eb6e410b796ff",
   "outputs": [
    {
     "name": "stdout",
     "output_type": "stream",
     "text": [
      "SVM Accuracy: 0.7337\n",
      "Classification Report:\n",
      "              precision    recall  f1-score   support\n",
      "\n",
      "           0       0.72      0.71      0.72      6971\n",
      "           1       0.75      0.75      0.75      7812\n",
      "\n",
      "    accuracy                           0.73     14783\n",
      "   macro avg       0.73      0.73      0.73     14783\n",
      "weighted avg       0.73      0.73      0.73     14783\n",
      "\n",
      "Confusion Matrix:\n",
      "[[4979 1992]\n",
      " [1945 5867]]\n"
     ]
    }
   ],
   "execution_count": 25
  }
 ],
 "metadata": {
  "kernelspec": {
   "display_name": "Python 3",
   "language": "python",
   "name": "python3"
  },
  "language_info": {
   "codemirror_mode": {
    "name": "ipython",
    "version": 2
   },
   "file_extension": ".py",
   "mimetype": "text/x-python",
   "name": "python",
   "nbconvert_exporter": "python",
   "pygments_lexer": "ipython2",
   "version": "2.7.6"
  }
 },
 "nbformat": 4,
 "nbformat_minor": 5
}
