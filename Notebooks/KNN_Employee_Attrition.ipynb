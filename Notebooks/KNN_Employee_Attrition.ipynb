{
 "cells": [
  {
   "metadata": {},
   "cell_type": "markdown",
   "source": "<h1 style=\"color:blue; text-align:center;\">KNN</h1>\n",
   "id": "ed915ae06ac45fd8"
  },
  {
   "metadata": {},
   "cell_type": "markdown",
   "source": "<h2>Importing Libraries</h2>",
   "id": "713d6442a4167edf"
  },
  {
   "metadata": {
    "ExecuteTime": {
     "end_time": "2025-03-12T18:53:54.206147Z",
     "start_time": "2025-03-12T18:53:54.200265Z"
    }
   },
   "cell_type": "code",
   "source": [
    "import pandas as pd\n",
    "import matplotlib.pyplot as plt\n",
    "import numpy as np\n",
    "from sklearn.model_selection import train_test_split\n",
    "from sklearn.neighbors import KNeighborsClassifier\n",
    "from sklearn.metrics import confusion_matrix\n",
    "from sklearn.metrics import classification_report\n",
    "%matplotlib inline"
   ],
   "id": "ebf1372debce006a",
   "outputs": [],
   "execution_count": 4
  },
  {
   "metadata": {},
   "cell_type": "markdown",
   "source": "<h2>Load the Preprocessed Dataset</h2>",
   "id": "ecd72e919f128f4c"
  },
  {
   "metadata": {
    "ExecuteTime": {
     "end_time": "2025-03-12T18:53:54.348197Z",
     "start_time": "2025-03-12T18:53:54.214692Z"
    }
   },
   "cell_type": "code",
   "source": [
    "df = pd.read_csv(\"../Dataset/after_preprocessing.csv\")\n",
    "df.shape"
   ],
   "id": "83d1843cf34b78f4",
   "outputs": [
    {
     "data": {
      "text/plain": [
       "(73915, 23)"
      ]
     },
     "execution_count": 5,
     "metadata": {},
     "output_type": "execute_result"
    }
   ],
   "execution_count": 5
  },
  {
   "metadata": {},
   "cell_type": "markdown",
   "source": "<h2>Explore the Target Column</h2>",
   "id": "86989b33e6ba9787"
  },
  {
   "metadata": {
    "ExecuteTime": {
     "end_time": "2025-03-12T18:53:54.368719Z",
     "start_time": "2025-03-12T18:53:54.361827Z"
    }
   },
   "cell_type": "code",
   "source": "target_categories = df['Attrition'].unique()",
   "id": "dc590e84e5fb3738",
   "outputs": [],
   "execution_count": 6
  },
  {
   "metadata": {
    "ExecuteTime": {
     "end_time": "2025-03-12T18:53:54.394970Z",
     "start_time": "2025-03-12T18:53:54.390441Z"
    }
   },
   "cell_type": "code",
   "source": [
    "print(\"Categories in the target column : \")\n",
    "for category in target_categories:\n",
    "    print(category)"
   ],
   "id": "4413bda0b34bb6e6",
   "outputs": [
    {
     "name": "stdout",
     "output_type": "stream",
     "text": [
      "Categories in the target column : \n",
      "1\n",
      "0\n"
     ]
    }
   ],
   "execution_count": 7
  },
  {
   "metadata": {},
   "cell_type": "markdown",
   "source": "<h2>Split the Dataset into Features and Target</h2>",
   "id": "68b6cba20cbf3ba3"
  },
  {
   "metadata": {
    "ExecuteTime": {
     "end_time": "2025-03-12T18:53:54.428141Z",
     "start_time": "2025-03-12T18:53:54.417571Z"
    }
   },
   "cell_type": "code",
   "source": [
    "x = df.drop(columns = [ 'Attrition'])\n",
    "y = df['Attrition']"
   ],
   "id": "a767614773ba876b",
   "outputs": [],
   "execution_count": 8
  },
  {
   "metadata": {},
   "cell_type": "markdown",
   "source": "<h2>Split the Dataset into Training and Testing</h2>",
   "id": "e0bcb553b9ad993"
  },
  {
   "metadata": {
    "ExecuteTime": {
     "end_time": "2025-03-12T18:53:54.459425Z",
     "start_time": "2025-03-12T18:53:54.441725Z"
    }
   },
   "cell_type": "code",
   "source": "x_train, x_test, y_train,y_test = train_test_split(x,y,test_size = 0.2, random_state = 42)",
   "id": "f0196778d3df46fd",
   "outputs": [],
   "execution_count": 9
  },
  {
   "metadata": {},
   "cell_type": "markdown",
   "source": "<h2>Train a KNN Classifier</h2>",
   "id": "62939c201ed6fd43"
  },
  {
   "metadata": {
    "ExecuteTime": {
     "end_time": "2025-03-12T18:53:54.508025Z",
     "start_time": "2025-03-12T18:53:54.481856Z"
    }
   },
   "cell_type": "code",
   "source": [
    "knn = KNeighborsClassifier(n_neighbors = 5)\n",
    "knn.fit(x_train,y_train)"
   ],
   "id": "a77e24e5163a0440",
   "outputs": [
    {
     "data": {
      "text/plain": [
       "KNeighborsClassifier()"
      ],
      "text/html": [
       "<style>#sk-container-id-1 {\n",
       "  /* Definition of color scheme common for light and dark mode */\n",
       "  --sklearn-color-text: #000;\n",
       "  --sklearn-color-text-muted: #666;\n",
       "  --sklearn-color-line: gray;\n",
       "  /* Definition of color scheme for unfitted estimators */\n",
       "  --sklearn-color-unfitted-level-0: #fff5e6;\n",
       "  --sklearn-color-unfitted-level-1: #f6e4d2;\n",
       "  --sklearn-color-unfitted-level-2: #ffe0b3;\n",
       "  --sklearn-color-unfitted-level-3: chocolate;\n",
       "  /* Definition of color scheme for fitted estimators */\n",
       "  --sklearn-color-fitted-level-0: #f0f8ff;\n",
       "  --sklearn-color-fitted-level-1: #d4ebff;\n",
       "  --sklearn-color-fitted-level-2: #b3dbfd;\n",
       "  --sklearn-color-fitted-level-3: cornflowerblue;\n",
       "\n",
       "  /* Specific color for light theme */\n",
       "  --sklearn-color-text-on-default-background: var(--sg-text-color, var(--theme-code-foreground, var(--jp-content-font-color1, black)));\n",
       "  --sklearn-color-background: var(--sg-background-color, var(--theme-background, var(--jp-layout-color0, white)));\n",
       "  --sklearn-color-border-box: var(--sg-text-color, var(--theme-code-foreground, var(--jp-content-font-color1, black)));\n",
       "  --sklearn-color-icon: #696969;\n",
       "\n",
       "  @media (prefers-color-scheme: dark) {\n",
       "    /* Redefinition of color scheme for dark theme */\n",
       "    --sklearn-color-text-on-default-background: var(--sg-text-color, var(--theme-code-foreground, var(--jp-content-font-color1, white)));\n",
       "    --sklearn-color-background: var(--sg-background-color, var(--theme-background, var(--jp-layout-color0, #111)));\n",
       "    --sklearn-color-border-box: var(--sg-text-color, var(--theme-code-foreground, var(--jp-content-font-color1, white)));\n",
       "    --sklearn-color-icon: #878787;\n",
       "  }\n",
       "}\n",
       "\n",
       "#sk-container-id-1 {\n",
       "  color: var(--sklearn-color-text);\n",
       "}\n",
       "\n",
       "#sk-container-id-1 pre {\n",
       "  padding: 0;\n",
       "}\n",
       "\n",
       "#sk-container-id-1 input.sk-hidden--visually {\n",
       "  border: 0;\n",
       "  clip: rect(1px 1px 1px 1px);\n",
       "  clip: rect(1px, 1px, 1px, 1px);\n",
       "  height: 1px;\n",
       "  margin: -1px;\n",
       "  overflow: hidden;\n",
       "  padding: 0;\n",
       "  position: absolute;\n",
       "  width: 1px;\n",
       "}\n",
       "\n",
       "#sk-container-id-1 div.sk-dashed-wrapped {\n",
       "  border: 1px dashed var(--sklearn-color-line);\n",
       "  margin: 0 0.4em 0.5em 0.4em;\n",
       "  box-sizing: border-box;\n",
       "  padding-bottom: 0.4em;\n",
       "  background-color: var(--sklearn-color-background);\n",
       "}\n",
       "\n",
       "#sk-container-id-1 div.sk-container {\n",
       "  /* jupyter's `normalize.less` sets `[hidden] { display: none; }`\n",
       "     but bootstrap.min.css set `[hidden] { display: none !important; }`\n",
       "     so we also need the `!important` here to be able to override the\n",
       "     default hidden behavior on the sphinx rendered scikit-learn.org.\n",
       "     See: https://github.com/scikit-learn/scikit-learn/issues/21755 */\n",
       "  display: inline-block !important;\n",
       "  position: relative;\n",
       "}\n",
       "\n",
       "#sk-container-id-1 div.sk-text-repr-fallback {\n",
       "  display: none;\n",
       "}\n",
       "\n",
       "div.sk-parallel-item,\n",
       "div.sk-serial,\n",
       "div.sk-item {\n",
       "  /* draw centered vertical line to link estimators */\n",
       "  background-image: linear-gradient(var(--sklearn-color-text-on-default-background), var(--sklearn-color-text-on-default-background));\n",
       "  background-size: 2px 100%;\n",
       "  background-repeat: no-repeat;\n",
       "  background-position: center center;\n",
       "}\n",
       "\n",
       "/* Parallel-specific style estimator block */\n",
       "\n",
       "#sk-container-id-1 div.sk-parallel-item::after {\n",
       "  content: \"\";\n",
       "  width: 100%;\n",
       "  border-bottom: 2px solid var(--sklearn-color-text-on-default-background);\n",
       "  flex-grow: 1;\n",
       "}\n",
       "\n",
       "#sk-container-id-1 div.sk-parallel {\n",
       "  display: flex;\n",
       "  align-items: stretch;\n",
       "  justify-content: center;\n",
       "  background-color: var(--sklearn-color-background);\n",
       "  position: relative;\n",
       "}\n",
       "\n",
       "#sk-container-id-1 div.sk-parallel-item {\n",
       "  display: flex;\n",
       "  flex-direction: column;\n",
       "}\n",
       "\n",
       "#sk-container-id-1 div.sk-parallel-item:first-child::after {\n",
       "  align-self: flex-end;\n",
       "  width: 50%;\n",
       "}\n",
       "\n",
       "#sk-container-id-1 div.sk-parallel-item:last-child::after {\n",
       "  align-self: flex-start;\n",
       "  width: 50%;\n",
       "}\n",
       "\n",
       "#sk-container-id-1 div.sk-parallel-item:only-child::after {\n",
       "  width: 0;\n",
       "}\n",
       "\n",
       "/* Serial-specific style estimator block */\n",
       "\n",
       "#sk-container-id-1 div.sk-serial {\n",
       "  display: flex;\n",
       "  flex-direction: column;\n",
       "  align-items: center;\n",
       "  background-color: var(--sklearn-color-background);\n",
       "  padding-right: 1em;\n",
       "  padding-left: 1em;\n",
       "}\n",
       "\n",
       "\n",
       "/* Toggleable style: style used for estimator/Pipeline/ColumnTransformer box that is\n",
       "clickable and can be expanded/collapsed.\n",
       "- Pipeline and ColumnTransformer use this feature and define the default style\n",
       "- Estimators will overwrite some part of the style using the `sk-estimator` class\n",
       "*/\n",
       "\n",
       "/* Pipeline and ColumnTransformer style (default) */\n",
       "\n",
       "#sk-container-id-1 div.sk-toggleable {\n",
       "  /* Default theme specific background. It is overwritten whether we have a\n",
       "  specific estimator or a Pipeline/ColumnTransformer */\n",
       "  background-color: var(--sklearn-color-background);\n",
       "}\n",
       "\n",
       "/* Toggleable label */\n",
       "#sk-container-id-1 label.sk-toggleable__label {\n",
       "  cursor: pointer;\n",
       "  display: flex;\n",
       "  width: 100%;\n",
       "  margin-bottom: 0;\n",
       "  padding: 0.5em;\n",
       "  box-sizing: border-box;\n",
       "  text-align: center;\n",
       "  align-items: start;\n",
       "  justify-content: space-between;\n",
       "  gap: 0.5em;\n",
       "}\n",
       "\n",
       "#sk-container-id-1 label.sk-toggleable__label .caption {\n",
       "  font-size: 0.6rem;\n",
       "  font-weight: lighter;\n",
       "  color: var(--sklearn-color-text-muted);\n",
       "}\n",
       "\n",
       "#sk-container-id-1 label.sk-toggleable__label-arrow:before {\n",
       "  /* Arrow on the left of the label */\n",
       "  content: \"▸\";\n",
       "  float: left;\n",
       "  margin-right: 0.25em;\n",
       "  color: var(--sklearn-color-icon);\n",
       "}\n",
       "\n",
       "#sk-container-id-1 label.sk-toggleable__label-arrow:hover:before {\n",
       "  color: var(--sklearn-color-text);\n",
       "}\n",
       "\n",
       "/* Toggleable content - dropdown */\n",
       "\n",
       "#sk-container-id-1 div.sk-toggleable__content {\n",
       "  max-height: 0;\n",
       "  max-width: 0;\n",
       "  overflow: hidden;\n",
       "  text-align: left;\n",
       "  /* unfitted */\n",
       "  background-color: var(--sklearn-color-unfitted-level-0);\n",
       "}\n",
       "\n",
       "#sk-container-id-1 div.sk-toggleable__content.fitted {\n",
       "  /* fitted */\n",
       "  background-color: var(--sklearn-color-fitted-level-0);\n",
       "}\n",
       "\n",
       "#sk-container-id-1 div.sk-toggleable__content pre {\n",
       "  margin: 0.2em;\n",
       "  border-radius: 0.25em;\n",
       "  color: var(--sklearn-color-text);\n",
       "  /* unfitted */\n",
       "  background-color: var(--sklearn-color-unfitted-level-0);\n",
       "}\n",
       "\n",
       "#sk-container-id-1 div.sk-toggleable__content.fitted pre {\n",
       "  /* unfitted */\n",
       "  background-color: var(--sklearn-color-fitted-level-0);\n",
       "}\n",
       "\n",
       "#sk-container-id-1 input.sk-toggleable__control:checked~div.sk-toggleable__content {\n",
       "  /* Expand drop-down */\n",
       "  max-height: 200px;\n",
       "  max-width: 100%;\n",
       "  overflow: auto;\n",
       "}\n",
       "\n",
       "#sk-container-id-1 input.sk-toggleable__control:checked~label.sk-toggleable__label-arrow:before {\n",
       "  content: \"▾\";\n",
       "}\n",
       "\n",
       "/* Pipeline/ColumnTransformer-specific style */\n",
       "\n",
       "#sk-container-id-1 div.sk-label input.sk-toggleable__control:checked~label.sk-toggleable__label {\n",
       "  color: var(--sklearn-color-text);\n",
       "  background-color: var(--sklearn-color-unfitted-level-2);\n",
       "}\n",
       "\n",
       "#sk-container-id-1 div.sk-label.fitted input.sk-toggleable__control:checked~label.sk-toggleable__label {\n",
       "  background-color: var(--sklearn-color-fitted-level-2);\n",
       "}\n",
       "\n",
       "/* Estimator-specific style */\n",
       "\n",
       "/* Colorize estimator box */\n",
       "#sk-container-id-1 div.sk-estimator input.sk-toggleable__control:checked~label.sk-toggleable__label {\n",
       "  /* unfitted */\n",
       "  background-color: var(--sklearn-color-unfitted-level-2);\n",
       "}\n",
       "\n",
       "#sk-container-id-1 div.sk-estimator.fitted input.sk-toggleable__control:checked~label.sk-toggleable__label {\n",
       "  /* fitted */\n",
       "  background-color: var(--sklearn-color-fitted-level-2);\n",
       "}\n",
       "\n",
       "#sk-container-id-1 div.sk-label label.sk-toggleable__label,\n",
       "#sk-container-id-1 div.sk-label label {\n",
       "  /* The background is the default theme color */\n",
       "  color: var(--sklearn-color-text-on-default-background);\n",
       "}\n",
       "\n",
       "/* On hover, darken the color of the background */\n",
       "#sk-container-id-1 div.sk-label:hover label.sk-toggleable__label {\n",
       "  color: var(--sklearn-color-text);\n",
       "  background-color: var(--sklearn-color-unfitted-level-2);\n",
       "}\n",
       "\n",
       "/* Label box, darken color on hover, fitted */\n",
       "#sk-container-id-1 div.sk-label.fitted:hover label.sk-toggleable__label.fitted {\n",
       "  color: var(--sklearn-color-text);\n",
       "  background-color: var(--sklearn-color-fitted-level-2);\n",
       "}\n",
       "\n",
       "/* Estimator label */\n",
       "\n",
       "#sk-container-id-1 div.sk-label label {\n",
       "  font-family: monospace;\n",
       "  font-weight: bold;\n",
       "  display: inline-block;\n",
       "  line-height: 1.2em;\n",
       "}\n",
       "\n",
       "#sk-container-id-1 div.sk-label-container {\n",
       "  text-align: center;\n",
       "}\n",
       "\n",
       "/* Estimator-specific */\n",
       "#sk-container-id-1 div.sk-estimator {\n",
       "  font-family: monospace;\n",
       "  border: 1px dotted var(--sklearn-color-border-box);\n",
       "  border-radius: 0.25em;\n",
       "  box-sizing: border-box;\n",
       "  margin-bottom: 0.5em;\n",
       "  /* unfitted */\n",
       "  background-color: var(--sklearn-color-unfitted-level-0);\n",
       "}\n",
       "\n",
       "#sk-container-id-1 div.sk-estimator.fitted {\n",
       "  /* fitted */\n",
       "  background-color: var(--sklearn-color-fitted-level-0);\n",
       "}\n",
       "\n",
       "/* on hover */\n",
       "#sk-container-id-1 div.sk-estimator:hover {\n",
       "  /* unfitted */\n",
       "  background-color: var(--sklearn-color-unfitted-level-2);\n",
       "}\n",
       "\n",
       "#sk-container-id-1 div.sk-estimator.fitted:hover {\n",
       "  /* fitted */\n",
       "  background-color: var(--sklearn-color-fitted-level-2);\n",
       "}\n",
       "\n",
       "/* Specification for estimator info (e.g. \"i\" and \"?\") */\n",
       "\n",
       "/* Common style for \"i\" and \"?\" */\n",
       "\n",
       ".sk-estimator-doc-link,\n",
       "a:link.sk-estimator-doc-link,\n",
       "a:visited.sk-estimator-doc-link {\n",
       "  float: right;\n",
       "  font-size: smaller;\n",
       "  line-height: 1em;\n",
       "  font-family: monospace;\n",
       "  background-color: var(--sklearn-color-background);\n",
       "  border-radius: 1em;\n",
       "  height: 1em;\n",
       "  width: 1em;\n",
       "  text-decoration: none !important;\n",
       "  margin-left: 0.5em;\n",
       "  text-align: center;\n",
       "  /* unfitted */\n",
       "  border: var(--sklearn-color-unfitted-level-1) 1pt solid;\n",
       "  color: var(--sklearn-color-unfitted-level-1);\n",
       "}\n",
       "\n",
       ".sk-estimator-doc-link.fitted,\n",
       "a:link.sk-estimator-doc-link.fitted,\n",
       "a:visited.sk-estimator-doc-link.fitted {\n",
       "  /* fitted */\n",
       "  border: var(--sklearn-color-fitted-level-1) 1pt solid;\n",
       "  color: var(--sklearn-color-fitted-level-1);\n",
       "}\n",
       "\n",
       "/* On hover */\n",
       "div.sk-estimator:hover .sk-estimator-doc-link:hover,\n",
       ".sk-estimator-doc-link:hover,\n",
       "div.sk-label-container:hover .sk-estimator-doc-link:hover,\n",
       ".sk-estimator-doc-link:hover {\n",
       "  /* unfitted */\n",
       "  background-color: var(--sklearn-color-unfitted-level-3);\n",
       "  color: var(--sklearn-color-background);\n",
       "  text-decoration: none;\n",
       "}\n",
       "\n",
       "div.sk-estimator.fitted:hover .sk-estimator-doc-link.fitted:hover,\n",
       ".sk-estimator-doc-link.fitted:hover,\n",
       "div.sk-label-container:hover .sk-estimator-doc-link.fitted:hover,\n",
       ".sk-estimator-doc-link.fitted:hover {\n",
       "  /* fitted */\n",
       "  background-color: var(--sklearn-color-fitted-level-3);\n",
       "  color: var(--sklearn-color-background);\n",
       "  text-decoration: none;\n",
       "}\n",
       "\n",
       "/* Span, style for the box shown on hovering the info icon */\n",
       ".sk-estimator-doc-link span {\n",
       "  display: none;\n",
       "  z-index: 9999;\n",
       "  position: relative;\n",
       "  font-weight: normal;\n",
       "  right: .2ex;\n",
       "  padding: .5ex;\n",
       "  margin: .5ex;\n",
       "  width: min-content;\n",
       "  min-width: 20ex;\n",
       "  max-width: 50ex;\n",
       "  color: var(--sklearn-color-text);\n",
       "  box-shadow: 2pt 2pt 4pt #999;\n",
       "  /* unfitted */\n",
       "  background: var(--sklearn-color-unfitted-level-0);\n",
       "  border: .5pt solid var(--sklearn-color-unfitted-level-3);\n",
       "}\n",
       "\n",
       ".sk-estimator-doc-link.fitted span {\n",
       "  /* fitted */\n",
       "  background: var(--sklearn-color-fitted-level-0);\n",
       "  border: var(--sklearn-color-fitted-level-3);\n",
       "}\n",
       "\n",
       ".sk-estimator-doc-link:hover span {\n",
       "  display: block;\n",
       "}\n",
       "\n",
       "/* \"?\"-specific style due to the `<a>` HTML tag */\n",
       "\n",
       "#sk-container-id-1 a.estimator_doc_link {\n",
       "  float: right;\n",
       "  font-size: 1rem;\n",
       "  line-height: 1em;\n",
       "  font-family: monospace;\n",
       "  background-color: var(--sklearn-color-background);\n",
       "  border-radius: 1rem;\n",
       "  height: 1rem;\n",
       "  width: 1rem;\n",
       "  text-decoration: none;\n",
       "  /* unfitted */\n",
       "  color: var(--sklearn-color-unfitted-level-1);\n",
       "  border: var(--sklearn-color-unfitted-level-1) 1pt solid;\n",
       "}\n",
       "\n",
       "#sk-container-id-1 a.estimator_doc_link.fitted {\n",
       "  /* fitted */\n",
       "  border: var(--sklearn-color-fitted-level-1) 1pt solid;\n",
       "  color: var(--sklearn-color-fitted-level-1);\n",
       "}\n",
       "\n",
       "/* On hover */\n",
       "#sk-container-id-1 a.estimator_doc_link:hover {\n",
       "  /* unfitted */\n",
       "  background-color: var(--sklearn-color-unfitted-level-3);\n",
       "  color: var(--sklearn-color-background);\n",
       "  text-decoration: none;\n",
       "}\n",
       "\n",
       "#sk-container-id-1 a.estimator_doc_link.fitted:hover {\n",
       "  /* fitted */\n",
       "  background-color: var(--sklearn-color-fitted-level-3);\n",
       "}\n",
       "</style><div id=\"sk-container-id-1\" class=\"sk-top-container\"><div class=\"sk-text-repr-fallback\"><pre>KNeighborsClassifier()</pre><b>In a Jupyter environment, please rerun this cell to show the HTML representation or trust the notebook. <br />On GitHub, the HTML representation is unable to render, please try loading this page with nbviewer.org.</b></div><div class=\"sk-container\" hidden><div class=\"sk-item\"><div class=\"sk-estimator fitted sk-toggleable\"><input class=\"sk-toggleable__control sk-hidden--visually\" id=\"sk-estimator-id-1\" type=\"checkbox\" checked><label for=\"sk-estimator-id-1\" class=\"sk-toggleable__label fitted sk-toggleable__label-arrow\"><div><div>KNeighborsClassifier</div></div><div><a class=\"sk-estimator-doc-link fitted\" rel=\"noreferrer\" target=\"_blank\" href=\"https://scikit-learn.org/1.6/modules/generated/sklearn.neighbors.KNeighborsClassifier.html\">?<span>Documentation for KNeighborsClassifier</span></a><span class=\"sk-estimator-doc-link fitted\">i<span>Fitted</span></span></div></label><div class=\"sk-toggleable__content fitted\"><pre>KNeighborsClassifier()</pre></div> </div></div></div></div>"
      ]
     },
     "execution_count": 10,
     "metadata": {},
     "output_type": "execute_result"
    }
   ],
   "execution_count": 10
  },
  {
   "metadata": {
    "ExecuteTime": {
     "end_time": "2025-03-12T18:53:55.795355Z",
     "start_time": "2025-03-12T18:53:54.531734Z"
    }
   },
   "cell_type": "code",
   "source": "y_pred = knn.predict(x_test)",
   "id": "a049155f54795f1e",
   "outputs": [],
   "execution_count": 11
  },
  {
   "metadata": {},
   "cell_type": "markdown",
   "source": "<h2>Evaluate the KNN Classifier</h2>",
   "id": "d8ec835f443cae17"
  },
  {
   "metadata": {
    "ExecuteTime": {
     "end_time": "2025-03-12T18:53:55.821311Z",
     "start_time": "2025-03-12T18:53:55.815797Z"
    }
   },
   "cell_type": "code",
   "source": [
    "cm = confusion_matrix(y_test, y_pred)\n",
    "print(cm)"
   ],
   "id": "50af7621a106f4e6",
   "outputs": [
    {
     "name": "stdout",
     "output_type": "stream",
     "text": [
      "[[4665 2306]\n",
      " [2469 5343]]\n"
     ]
    }
   ],
   "execution_count": 12
  },
  {
   "metadata": {
    "ExecuteTime": {
     "end_time": "2025-03-12T18:53:55.848796Z",
     "start_time": "2025-03-12T18:53:55.843423Z"
    }
   },
   "cell_type": "code",
   "source": [
    "TN = cm[0,0]\n",
    "FP = cm[0,1]\n",
    "FN = cm[1,0]\n",
    "TP = cm[1,1]\n",
    "\n",
    "print(\"True Positives (TP) :\", TP)\n",
    "print(\"True Negatives (TN) :\",TN)\n",
    "print(\"False Positive (FP) :\",FP)\n",
    "print(\"False Negatives (FN)  :\",FN)"
   ],
   "id": "a4a4c513919ca2c3",
   "outputs": [
    {
     "name": "stdout",
     "output_type": "stream",
     "text": [
      "True Positives (TP) : 5343\n",
      "True Negatives (TN) : 4665\n",
      "False Positive (FP) : 2306\n",
      "False Negatives (FN)  : 2469\n"
     ]
    }
   ],
   "execution_count": 13
  },
  {
   "metadata": {
    "ExecuteTime": {
     "end_time": "2025-03-12T18:53:55.877585Z",
     "start_time": "2025-03-12T18:53:55.871505Z"
    }
   },
   "cell_type": "code",
   "source": [
    "accuracy = (TP + TN) / (TP + TN + FP + FN)\n",
    "precision = TP / (TP + FP)\n",
    "recall = TP / (TP + FN)\n",
    "f_measure = 2 *(precision * recall) / ( precision + recall)\n",
    "\n",
    "print(\"Accuracy : \", accuracy)\n",
    "print(\"Precision : \", precision)\n",
    "print(\"Recall : \", recall)\n",
    "print(\"f_measure : \", f_measure)"
   ],
   "id": "daae7201da7f37b8",
   "outputs": [
    {
     "name": "stdout",
     "output_type": "stream",
     "text": [
      "Accuracy :  0.6769938442805926\n",
      "Precision :  0.6985226827036214\n",
      "Recall :  0.6839477726574501\n",
      "f_measure :  0.6911583985511933\n"
     ]
    }
   ],
   "execution_count": 14
  },
  {
   "metadata": {
    "ExecuteTime": {
     "end_time": "2025-03-12T18:53:55.911827Z",
     "start_time": "2025-03-12T18:53:55.899315Z"
    }
   },
   "cell_type": "code",
   "source": "print(classification_report(y_test,y_pred))",
   "id": "48568e21328204aa",
   "outputs": [
    {
     "name": "stdout",
     "output_type": "stream",
     "text": [
      "              precision    recall  f1-score   support\n",
      "\n",
      "           0       0.65      0.67      0.66      6971\n",
      "           1       0.70      0.68      0.69      7812\n",
      "\n",
      "    accuracy                           0.68     14783\n",
      "   macro avg       0.68      0.68      0.68     14783\n",
      "weighted avg       0.68      0.68      0.68     14783\n",
      "\n"
     ]
    }
   ],
   "execution_count": 15
  },
  {
   "metadata": {},
   "cell_type": "markdown",
   "source": "<h2>Find the Best K Value Using Cross-Validation</h2>",
   "id": "ab6adf80a17bb518"
  },
  {
   "metadata": {
    "ExecuteTime": {
     "end_time": "2025-03-12T18:55:34.504091Z",
     "start_time": "2025-03-12T18:53:55.935923Z"
    }
   },
   "cell_type": "code",
   "source": [
    "from sklearn.model_selection import cross_val_score\n",
    "\n",
    "k_values = list(range(1, 30))\n",
    "cv_scores = []\n",
    "\n",
    "for k in k_values:\n",
    "    knn = KNeighborsClassifier(n_neighbors=k)\n",
    "    scores = cross_val_score(knn, x_train, y_train, cv=5, scoring='accuracy')\n",
    "    cv_scores.append(scores.mean())\n",
    "\n",
    "\n",
    "plt.plot(k_values, cv_scores, marker = 'o')\n",
    "plt.xlabel('Number of Neighbors (K)')\n",
    "plt.ylabel('Cross-Validation Accuracy')\n",
    "plt.title('KNN Performance for Different K Values')\n",
    "plt.show()\n",
    "\n",
    "\n",
    "best_k = k_values[np.argmax(cv_scores)]\n",
    "print(\"Best K:\", best_k)"
   ],
   "id": "83560f897aa9d4b3",
   "outputs": [
    {
     "data": {
      "text/plain": [
       "<Figure size 640x480 with 1 Axes>"
      ],
      "image/png": "[encoded data removed]"
     },
     "metadata": {},
     "output_type": "display_data"
    },
    {
     "name": "stdout",
     "output_type": "stream",
     "text": [
      "Best K: 29\n"
     ]
    }
   ],
   "execution_count": 16
  },
  {
   "metadata": {},
   "cell_type": "markdown",
   "source": "<h2>Train and Evaluate KNN Classifier with the Best K Value</h2>",
   "id": "c90e0ee1b4dfdea6"
  },
  {
   "metadata": {
    "ExecuteTime": {
     "end_time": "2025-03-12T18:55:35.594397Z",
     "start_time": "2025-03-12T18:55:34.549118Z"
    }
   },
   "cell_type": "code",
   "source": [
    "best_knn = KNeighborsClassifier(n_neighbors = 29)\n",
    "best_knn.fit(x_train,y_train)\n",
    "y_pred = best_knn.predict(x_test)\n",
    "\n",
    "cm = confusion_matrix(y_test, y_pred)\n",
    "print(cm)\n",
    "\n",
    "TN = cm[0,0]\n",
    "FP = cm[0,1]\n",
    "FN = cm[1,0]\n",
    "TP = cm[1,1]\n",
    "\n",
    "print(\"True Positives (TP) :\", TP)\n",
    "print(\"True Negatives (TN) :\",TN)\n",
    "print(\"False Positive (FP) :\",FP)\n",
    "print(\"False Negatives (FN)  :\",FN)\n",
    "\n",
    "accuracy = (TP + TN) / (TP + TN + FP + FN)\n",
    "precision = TP / (TP + FP)\n",
    "recall = TP / (TP + FN)\n",
    "f_measure = 2 *(precision * recall) / ( precision + recall)\n",
    "\n",
    "print(\"Accuracy : \", accuracy)\n",
    "print(\"Precision : \", precision)\n",
    "print(\"Recall : \", recall)\n",
    "print(\"f_measure : \", f_measure)\n",
    "\n",
    "print(classification_report(y_test,y_pred))"
   ],
   "id": "abc6958c4f52936f",
   "outputs": [
    {
     "name": "stdout",
     "output_type": "stream",
     "text": [
      "[[4891 2080]\n",
      " [2163 5649]]\n",
      "True Positives (TP) : 5649\n",
      "True Negatives (TN) : 4891\n",
      "False Positive (FP) : 2080\n",
      "False Negatives (FN)  : 2163\n",
      "Accuracy :  0.7129811269701685\n",
      "Precision :  0.7308836848233924\n",
      "Recall :  0.7231182795698925\n",
      "f_measure :  0.7269802458014284\n",
      "              precision    recall  f1-score   support\n",
      "\n",
      "           0       0.69      0.70      0.70      6971\n",
      "           1       0.73      0.72      0.73      7812\n",
      "\n",
      "    accuracy                           0.71     14783\n",
      "   macro avg       0.71      0.71      0.71     14783\n",
      "weighted avg       0.71      0.71      0.71     14783\n",
      "\n"
     ]
    }
   ],
   "execution_count": 17
  },
  {
   "metadata": {},
   "cell_type": "markdown",
   "source": "<h2>Visualize the Confusion Matrix</h2>",
   "id": "b71faac6a3e86c6e"
  },
  {
   "metadata": {
    "ExecuteTime": {
     "end_time": "2025-03-12T18:55:35.694595Z",
     "start_time": "2025-03-12T18:55:35.599404Z"
    }
   },
   "cell_type": "code",
   "source": [
    "import seaborn as sns\n",
    "conf_matrix = confusion_matrix(y_test, y_pred)\n",
    "sns.heatmap(conf_matrix, annot=True, fmt='d', cmap='Blues', xticklabels=['No Attrition', 'Attrition'], yticklabels=['No Attrition', 'Attrition'])\n",
    "plt.xlabel('Predicted')\n",
    "plt.ylabel('Actual')\n",
    "plt.title('Confusion Matrix for KNN')\n",
    "plt.show()"
   ],
   "id": "24957a829359b899",
   "outputs": [
    {
     "data": {
      "text/plain": [
       "<Figure size 640x480 with 2 Axes>"
      ],
      "image/png": "[encoded data removed]"
     },
     "metadata": {},
     "output_type": "display_data"
    }
   ],
   "execution_count": 18
  },
  {
   "metadata": {},
   "cell_type": "markdown",
   "source": "<h2>Feature Selection</h2>",
   "id": "e3bb0836f6812f17"
  },
  {
   "metadata": {
    "ExecuteTime": {
     "end_time": "2025-03-12T18:55:35.722739Z",
     "start_time": "2025-03-12T18:55:35.716732Z"
    }
   },
   "cell_type": "code",
   "source": "print(\"Shape of x_train before feature selection:\", x_train.shape)",
   "id": "656adbab59957b3f",
   "outputs": [
    {
     "name": "stdout",
     "output_type": "stream",
     "text": [
      "Shape of x_train before feature selection: (59132, 22)\n"
     ]
    }
   ],
   "execution_count": 19
  },
  {
   "metadata": {
    "ExecuteTime": {
     "end_time": "2025-03-12T19:39:56.782183Z",
     "start_time": "2025-03-12T19:39:56.777302Z"
    }
   },
   "cell_type": "code",
   "source": [
    "from sklearn.feature_selection import SelectKBest, chi2, mutual_info_classif\n",
    "from sklearn.metrics import accuracy_score\n",
    "from sklearn.model_selection import cross_val_score"
   ],
   "id": "4487360a7a83bf46",
   "outputs": [],
   "execution_count": 34
  },
  {
   "metadata": {},
   "cell_type": "markdown",
   "source": "<h2>Best k for Chi-Square and Mutual Information</h2>",
   "id": "dd8a0bc89d5ec573"
  },
  {
   "metadata": {
    "ExecuteTime": {
     "end_time": "2025-03-12T19:32:41.869693Z",
     "start_time": "2025-03-12T19:28:16.210068Z"
    }
   },
   "cell_type": "code",
   "source": [
    "k_values = list(range(5, 21))\n",
    "chi2_scores = []\n",
    "mi_scores = []\n",
    "\n",
    "for k in k_values:\n",
    "    selector_chi2 = SelectKBest(score_func=chi2, k=k)\n",
    "    x_train_selected_chi2 = selector_chi2.fit_transform(x_train, y_train)\n",
    "    x_test_selected_chi2 = selector_chi2.transform(x_test)\n",
    "\n",
    "    knn = KNeighborsClassifier(n_neighbors=29)\n",
    "    knn.fit(x_train_selected_chi2, y_train)\n",
    "\n",
    "    accuracy_chi2 = np.mean(cross_val_score(knn, x_train_selected_chi2, y_train, cv=5, scoring='accuracy'))\n",
    "    chi2_scores.append(accuracy_chi2)\n",
    "\n",
    "    selector_mi = SelectKBest(score_func=mutual_info_classif, k=k)\n",
    "    x_train_selected_mi = selector_mi.fit_transform(x_train, y_train)\n",
    "    x_test_selected_mi = selector_mi.transform(x_test)\n",
    "    knn.fit(x_train_selected_mi, y_train)\n",
    "\n",
    "    accuracy_mi = np.mean(cross_val_score(knn, x_train_selected_mi, y_train, cv=5, scoring='accuracy'))\n",
    "    mi_scores.append(accuracy_mi)\n",
    "\n",
    "plt.figure(figsize=(10, 5))\n",
    "plt.plot(k_values, chi2_scores, marker='o', label='Chi-Square Accuracy')\n",
    "plt.plot(k_values, mi_scores, marker='s', label='Mutual Information Accuracy')\n",
    "plt.xlabel('Number of Features (k)')\n",
    "plt.ylabel('Cross-Validation Accuracy')\n",
    "plt.title('Feature Selection Performance for Different k Values')\n",
    "plt.legend()\n",
    "plt.show()\n",
    "\n",
    "best_k_chi2 = k_values[np.argmax(chi2_scores)]\n",
    "best_k_mi = k_values[np.argmax(mi_scores)]\n",
    "\n",
    "print(\"Best k for Chi-Square Feature Selection:\", best_k_chi2)\n",
    "print(\"Best k for Mutual Information Feature Selection:\", best_k_mi)\n"
   ],
   "id": "b5096321c3518623",
   "outputs": [
    {
     "data": {
      "text/plain": [
       "<Figure size 1000x500 with 1 Axes>"
      ],
      "image/png": "[encoded data removed]"
     },
     "metadata": {},
     "output_type": "display_data"
    },
    {
     "name": "stdout",
     "output_type": "stream",
     "text": [
      "Best k for Chi-Square Feature Selection: 15\n",
      "Best k for Mutual Information Feature Selection: 10\n"
     ]
    }
   ],
   "execution_count": 29
  },
  {
   "metadata": {
    "ExecuteTime": {
     "end_time": "2025-03-12T19:32:58.859764Z",
     "start_time": "2025-03-12T19:32:58.826795Z"
    }
   },
   "cell_type": "code",
   "source": [
    "k = best_k_chi2\n",
    "selector_chi2 = SelectKBest(score_func=chi2, k=k)\n",
    "x_train_selected_chi2 = selector_chi2.fit_transform(x_train, y_train)\n",
    "x_test_selected_chi2 = selector_chi2.transform(x_test)\n",
    "\n",
    "print(\"Shape of x_train after Chi-Square feature selection:\", x_train_selected_chi2.shape)"
   ],
   "id": "25d222a7409ad49b",
   "outputs": [
    {
     "name": "stdout",
     "output_type": "stream",
     "text": [
      "Shape of x_train after Chi-Square feature selection: (59132, 15)\n"
     ]
    }
   ],
   "execution_count": 30
  },
  {
   "metadata": {
    "ExecuteTime": {
     "end_time": "2025-03-12T19:34:32.824446Z",
     "start_time": "2025-03-12T19:34:28.572542Z"
    }
   },
   "cell_type": "code",
   "source": [
    "best_knn.fit(x_train_selected_chi2, y_train)\n",
    "y_pred2 = best_knn.predict(x_test_selected_chi2)\n",
    "\n",
    "accuracy_chi2 = accuracy_score(y_test, y_pred2)\n",
    "print(\"Accuracy after Chi-Square feature selection:\", accuracy_chi2)"
   ],
   "id": "392698db2697a9cc",
   "outputs": [
    {
     "name": "stdout",
     "output_type": "stream",
     "text": [
      "Accuracy after Chi-Square feature selection: 0.7326659000202935\n"
     ]
    }
   ],
   "execution_count": 31
  },
  {
   "metadata": {
    "ExecuteTime": {
     "end_time": "2025-03-12T19:42:28.357587Z",
     "start_time": "2025-03-12T19:42:22.100971Z"
    }
   },
   "cell_type": "code",
   "source": [
    "k = best_k_mi\n",
    "selector_mi = SelectKBest(score_func=mutual_info_classif, k=k)\n",
    "x_train_selected_mi = selector_mi.fit_transform(x_train, y_train)\n",
    "x_test_selected_mi = selector_mi.transform(x_test)\n",
    "\n",
    "print(\"Shape of x_train after Mutual Information feature selection:\", x_train_selected_mi.shape)\n",
    "\n",
    "best_knn.fit(x_train_selected_mi, y_train)\n",
    "y_pred3 = best_knn.predict(x_test_selected_mi)\n",
    "\n",
    "accuracy_mi = accuracy_score(y_test, y_pred3)\n",
    "print(\"Accuracy after Mutual Information feature selection:\", accuracy_mi)"
   ],
   "id": "ea30f721f2838331",
   "outputs": [
    {
     "name": "stdout",
     "output_type": "stream",
     "text": [
      "Shape of x_train after Mutual Information feature selection: (59132, 10)\n",
      "Accuracy after Mutual Information feature selection: 0.7327335452885071\n"
     ]
    }
   ],
   "execution_count": 35
  }
 ],
 "metadata": {
  "kernelspec": {
   "display_name": "Python 3",
   "language": "python",
   "name": "python3"
  },
  "language_info": {
   "codemirror_mode": {
    "name": "ipython",
    "version": 2
   },
   "file_extension": ".py",
   "mimetype": "text/x-python",
   "name": "python",
   "nbconvert_exporter": "python",
   "pygments_lexer": "ipython2",
   "version": "2.7.6"
  }
 },
 "nbformat": 4,
 "nbformat_minor": 5
}
