{
 "cells": [
  {
   "metadata": {},
   "cell_type": "markdown",
   "source": "<h1 style=\"color:blue; text-align:center;\">Random Forest</h1>",
   "id": "d167e2fddde847be"
  },
  {
   "metadata": {},
   "cell_type": "markdown",
   "source": "<h2>Load the Preprocessed Dataset</h2>",
   "id": "abd702cf8a88f871"
  },
  {
   "metadata": {
    "ExecuteTime": {
     "end_time": "2025-03-16T19:53:23.837384Z",
     "start_time": "2025-03-16T19:53:23.534142Z"
    }
   },
   "cell_type": "code",
   "source": [
    "import pandas as pd\n",
    "from sklearn.model_selection import train_test_split\n",
    "from sklearn.ensemble import RandomForestClassifier\n",
    "from sklearn.metrics import accuracy_score, confusion_matrix, classification_report\n",
    "from sklearn.feature_selection import SelectKBest, chi2, mutual_info_classif\n",
    "import numpy as np\n",
    "import matplotlib.pyplot as plt"
   ],
   "id": "e9a9246693f84797",
   "outputs": [],
   "execution_count": 1
  },
  {
   "metadata": {
    "ExecuteTime": {
     "end_time": "2025-03-16T19:53:24.013260Z",
     "start_time": "2025-03-16T19:53:23.846052Z"
    }
   },
   "cell_type": "code",
   "source": [
    "df = pd.read_csv(\"../Dataset/after_preprocessing.csv\")\n",
    "df"
   ],
   "id": "43a84a7c8ad647b6",
   "outputs": [
    {
     "data": {
      "text/plain": [
       "            Age  Gender  Years at Company  Job Role  Monthly Income  \\\n",
       "0      0.439024       1              0.24         2        0.455873   \n",
       "1      0.414634       1              0.12         0        0.223615   \n",
       "2      0.780488       1              0.12         0        0.291965   \n",
       "3      0.975610       1              0.86         3        0.288079   \n",
       "4      0.512195       1              0.46         0        0.226362   \n",
       "...         ...     ...               ...       ...             ...   \n",
       "73910  0.780488       0              0.22         0        0.213630   \n",
       "73911  0.000000       1              0.06         2        0.456611   \n",
       "73912  0.097561       0              0.26         4        0.450178   \n",
       "73913  0.121951       1              0.14         0        0.114253   \n",
       "73914  0.926829       1              0.36         4        0.364136   \n",
       "\n",
       "       Work-Life Balance  Job Satisfaction  Performance Rating  \\\n",
       "0                      0                 0                   0   \n",
       "1                      2                 0                   0   \n",
       "2                      1                 0                   0   \n",
       "3                      1                 3                   2   \n",
       "4                      2                 0                   0   \n",
       "...                  ...               ...                 ...   \n",
       "73910                  1                 0                   0   \n",
       "73911                  1                 0                   2   \n",
       "73912                  1                 0                   2   \n",
       "73913                  1                 3                   0   \n",
       "73914                  2                 0                   0   \n",
       "\n",
       "       Number of Promotions  Overtime  ...  Number of Dependents  Job Level  \\\n",
       "0                      0.25         1  ...              0.166667          1   \n",
       "1                      0.25         1  ...              0.666667          0   \n",
       "2                      0.75         1  ...              0.333333          2   \n",
       "3                      0.00         1  ...              0.666667          0   \n",
       "4                      0.00         1  ...              1.000000          1   \n",
       "...                     ...       ...  ...                   ...        ...   \n",
       "73910                  0.25         1  ...              0.333333          2   \n",
       "73911                  0.75         0  ...              0.000000          2   \n",
       "73912                  0.00         1  ...              0.333333          0   \n",
       "73913                  0.00         0  ...              0.000000          0   \n",
       "73914                  0.00         1  ...              0.500000          1   \n",
       "\n",
       "       Company Size  Company Tenure  Remote Work  Leadership Opportunities  \\\n",
       "0                 0        0.158730            0                         0   \n",
       "1                 1        0.198413            0                         0   \n",
       "2                 1        0.587302            0                         0   \n",
       "3                 1        0.746032            0                         0   \n",
       "4                 0        0.341270            1                         0   \n",
       "...             ...             ...          ...                       ...   \n",
       "73910             2        0.261905            0                         0   \n",
       "73911             1        0.563492            0                         0   \n",
       "73912             2        0.214286            0                         1   \n",
       "73913             0        0.055556            0                         0   \n",
       "73914             1        0.626984            0                         0   \n",
       "\n",
       "       Innovation Opportunities  Company Reputation  Employee Recognition  \\\n",
       "0                             0                   3                     2   \n",
       "1                             0                   2                     0   \n",
       "2                             1                   2                     1   \n",
       "3                             0                   3                     1   \n",
       "4                             0                   2                     0   \n",
       "...                         ...                 ...                   ...   \n",
       "73910                         1                   3                     3   \n",
       "73911                         0                   1                     2   \n",
       "73912                         0                   2                     2   \n",
       "73913                         0                   2                     1   \n",
       "73914                         0                   2                     1   \n",
       "\n",
       "       Attrition  \n",
       "0              1  \n",
       "1              0  \n",
       "2              1  \n",
       "3              0  \n",
       "4              1  \n",
       "...          ...  \n",
       "73910          0  \n",
       "73911          0  \n",
       "73912          1  \n",
       "73913          0  \n",
       "73914          1  \n",
       "\n",
       "[73915 rows x 23 columns]"
      ],
      "text/html": [
       "<div>\n",
       "<style scoped>\n",
       "    .dataframe tbody tr th:only-of-type {\n",
       "        vertical-align: middle;\n",
       "    }\n",
       "\n",
       "    .dataframe tbody tr th {\n",
       "        vertical-align: top;\n",
       "    }\n",
       "\n",
       "    .dataframe thead th {\n",
       "        text-align: right;\n",
       "    }\n",
       "</style>\n",
       "<table border=\"1\" class=\"dataframe\">\n",
       "  <thead>\n",
       "    <tr style=\"text-align: right;\">\n",
       "      <th></th>\n",
       "      <th>Age</th>\n",
       "      <th>Gender</th>\n",
       "      <th>Years at Company</th>\n",
       "      <th>Job Role</th>\n",
       "      <th>Monthly Income</th>\n",
       "      <th>Work-Life Balance</th>\n",
       "      <th>Job Satisfaction</th>\n",
       "      <th>Performance Rating</th>\n",
       "      <th>Number of Promotions</th>\n",
       "      <th>Overtime</th>\n",
       "      <th>...</th>\n",
       "      <th>Number of Dependents</th>\n",
       "      <th>Job Level</th>\n",
       "      <th>Company Size</th>\n",
       "      <th>Company Tenure</th>\n",
       "      <th>Remote Work</th>\n",
       "      <th>Leadership Opportunities</th>\n",
       "      <th>Innovation Opportunities</th>\n",
       "      <th>Company Reputation</th>\n",
       "      <th>Employee Recognition</th>\n",
       "      <th>Attrition</th>\n",
       "    </tr>\n",
       "  </thead>\n",
       "  <tbody>\n",
       "    <tr>\n",
       "      <th>0</th>\n",
       "      <td>0.439024</td>\n",
       "      <td>1</td>\n",
       "      <td>0.24</td>\n",
       "      <td>2</td>\n",
       "      <td>0.455873</td>\n",
       "      <td>0</td>\n",
       "      <td>0</td>\n",
       "      <td>0</td>\n",
       "      <td>0.25</td>\n",
       "      <td>1</td>\n",
       "      <td>...</td>\n",
       "      <td>0.166667</td>\n",
       "      <td>1</td>\n",
       "      <td>0</td>\n",
       "      <td>0.158730</td>\n",
       "      <td>0</td>\n",
       "      <td>0</td>\n",
       "      <td>0</td>\n",
       "      <td>3</td>\n",
       "      <td>2</td>\n",
       "      <td>1</td>\n",
       "    </tr>\n",
       "    <tr>\n",
       "      <th>1</th>\n",
       "      <td>0.414634</td>\n",
       "      <td>1</td>\n",
       "      <td>0.12</td>\n",
       "      <td>0</td>\n",
       "      <td>0.223615</td>\n",
       "      <td>2</td>\n",
       "      <td>0</td>\n",
       "      <td>0</td>\n",
       "      <td>0.25</td>\n",
       "      <td>1</td>\n",
       "      <td>...</td>\n",
       "      <td>0.666667</td>\n",
       "      <td>0</td>\n",
       "      <td>1</td>\n",
       "      <td>0.198413</td>\n",
       "      <td>0</td>\n",
       "      <td>0</td>\n",
       "      <td>0</td>\n",
       "      <td>2</td>\n",
       "      <td>0</td>\n",
       "      <td>0</td>\n",
       "    </tr>\n",
       "    <tr>\n",
       "      <th>2</th>\n",
       "      <td>0.780488</td>\n",
       "      <td>1</td>\n",
       "      <td>0.12</td>\n",
       "      <td>0</td>\n",
       "      <td>0.291965</td>\n",
       "      <td>1</td>\n",
       "      <td>0</td>\n",
       "      <td>0</td>\n",
       "      <td>0.75</td>\n",
       "      <td>1</td>\n",
       "      <td>...</td>\n",
       "      <td>0.333333</td>\n",
       "      <td>2</td>\n",
       "      <td>1</td>\n",
       "      <td>0.587302</td>\n",
       "      <td>0</td>\n",
       "      <td>0</td>\n",
       "      <td>1</td>\n",
       "      <td>2</td>\n",
       "      <td>1</td>\n",
       "      <td>1</td>\n",
       "    </tr>\n",
       "    <tr>\n",
       "      <th>3</th>\n",
       "      <td>0.975610</td>\n",
       "      <td>1</td>\n",
       "      <td>0.86</td>\n",
       "      <td>3</td>\n",
       "      <td>0.288079</td>\n",
       "      <td>1</td>\n",
       "      <td>3</td>\n",
       "      <td>2</td>\n",
       "      <td>0.00</td>\n",
       "      <td>1</td>\n",
       "      <td>...</td>\n",
       "      <td>0.666667</td>\n",
       "      <td>0</td>\n",
       "      <td>1</td>\n",
       "      <td>0.746032</td>\n",
       "      <td>0</td>\n",
       "      <td>0</td>\n",
       "      <td>0</td>\n",
       "      <td>3</td>\n",
       "      <td>1</td>\n",
       "      <td>0</td>\n",
       "    </tr>\n",
       "    <tr>\n",
       "      <th>4</th>\n",
       "      <td>0.512195</td>\n",
       "      <td>1</td>\n",
       "      <td>0.46</td>\n",
       "      <td>0</td>\n",
       "      <td>0.226362</td>\n",
       "      <td>2</td>\n",
       "      <td>0</td>\n",
       "      <td>0</td>\n",
       "      <td>0.00</td>\n",
       "      <td>1</td>\n",
       "      <td>...</td>\n",
       "      <td>1.000000</td>\n",
       "      <td>1</td>\n",
       "      <td>0</td>\n",
       "      <td>0.341270</td>\n",
       "      <td>1</td>\n",
       "      <td>0</td>\n",
       "      <td>0</td>\n",
       "      <td>2</td>\n",
       "      <td>0</td>\n",
       "      <td>1</td>\n",
       "    </tr>\n",
       "    <tr>\n",
       "      <th>...</th>\n",
       "      <td>...</td>\n",
       "      <td>...</td>\n",
       "      <td>...</td>\n",
       "      <td>...</td>\n",
       "      <td>...</td>\n",
       "      <td>...</td>\n",
       "      <td>...</td>\n",
       "      <td>...</td>\n",
       "      <td>...</td>\n",
       "      <td>...</td>\n",
       "      <td>...</td>\n",
       "      <td>...</td>\n",
       "      <td>...</td>\n",
       "      <td>...</td>\n",
       "      <td>...</td>\n",
       "      <td>...</td>\n",
       "      <td>...</td>\n",
       "      <td>...</td>\n",
       "      <td>...</td>\n",
       "      <td>...</td>\n",
       "      <td>...</td>\n",
       "    </tr>\n",
       "    <tr>\n",
       "      <th>73910</th>\n",
       "      <td>0.780488</td>\n",
       "      <td>0</td>\n",
       "      <td>0.22</td>\n",
       "      <td>0</td>\n",
       "      <td>0.213630</td>\n",
       "      <td>1</td>\n",
       "      <td>0</td>\n",
       "      <td>0</td>\n",
       "      <td>0.25</td>\n",
       "      <td>1</td>\n",
       "      <td>...</td>\n",
       "      <td>0.333333</td>\n",
       "      <td>2</td>\n",
       "      <td>2</td>\n",
       "      <td>0.261905</td>\n",
       "      <td>0</td>\n",
       "      <td>0</td>\n",
       "      <td>1</td>\n",
       "      <td>3</td>\n",
       "      <td>3</td>\n",
       "      <td>0</td>\n",
       "    </tr>\n",
       "    <tr>\n",
       "      <th>73911</th>\n",
       "      <td>0.000000</td>\n",
       "      <td>1</td>\n",
       "      <td>0.06</td>\n",
       "      <td>2</td>\n",
       "      <td>0.456611</td>\n",
       "      <td>1</td>\n",
       "      <td>0</td>\n",
       "      <td>2</td>\n",
       "      <td>0.75</td>\n",
       "      <td>0</td>\n",
       "      <td>...</td>\n",
       "      <td>0.000000</td>\n",
       "      <td>2</td>\n",
       "      <td>1</td>\n",
       "      <td>0.563492</td>\n",
       "      <td>0</td>\n",
       "      <td>0</td>\n",
       "      <td>0</td>\n",
       "      <td>1</td>\n",
       "      <td>2</td>\n",
       "      <td>0</td>\n",
       "    </tr>\n",
       "    <tr>\n",
       "      <th>73912</th>\n",
       "      <td>0.097561</td>\n",
       "      <td>0</td>\n",
       "      <td>0.26</td>\n",
       "      <td>4</td>\n",
       "      <td>0.450178</td>\n",
       "      <td>1</td>\n",
       "      <td>0</td>\n",
       "      <td>2</td>\n",
       "      <td>0.00</td>\n",
       "      <td>1</td>\n",
       "      <td>...</td>\n",
       "      <td>0.333333</td>\n",
       "      <td>0</td>\n",
       "      <td>2</td>\n",
       "      <td>0.214286</td>\n",
       "      <td>0</td>\n",
       "      <td>1</td>\n",
       "      <td>0</td>\n",
       "      <td>2</td>\n",
       "      <td>2</td>\n",
       "      <td>1</td>\n",
       "    </tr>\n",
       "    <tr>\n",
       "      <th>73913</th>\n",
       "      <td>0.121951</td>\n",
       "      <td>1</td>\n",
       "      <td>0.14</td>\n",
       "      <td>0</td>\n",
       "      <td>0.114253</td>\n",
       "      <td>1</td>\n",
       "      <td>3</td>\n",
       "      <td>0</td>\n",
       "      <td>0.00</td>\n",
       "      <td>0</td>\n",
       "      <td>...</td>\n",
       "      <td>0.000000</td>\n",
       "      <td>0</td>\n",
       "      <td>0</td>\n",
       "      <td>0.055556</td>\n",
       "      <td>0</td>\n",
       "      <td>0</td>\n",
       "      <td>0</td>\n",
       "      <td>2</td>\n",
       "      <td>1</td>\n",
       "      <td>0</td>\n",
       "    </tr>\n",
       "    <tr>\n",
       "      <th>73914</th>\n",
       "      <td>0.926829</td>\n",
       "      <td>1</td>\n",
       "      <td>0.36</td>\n",
       "      <td>4</td>\n",
       "      <td>0.364136</td>\n",
       "      <td>2</td>\n",
       "      <td>0</td>\n",
       "      <td>0</td>\n",
       "      <td>0.00</td>\n",
       "      <td>1</td>\n",
       "      <td>...</td>\n",
       "      <td>0.500000</td>\n",
       "      <td>1</td>\n",
       "      <td>1</td>\n",
       "      <td>0.626984</td>\n",
       "      <td>0</td>\n",
       "      <td>0</td>\n",
       "      <td>0</td>\n",
       "      <td>2</td>\n",
       "      <td>1</td>\n",
       "      <td>1</td>\n",
       "    </tr>\n",
       "  </tbody>\n",
       "</table>\n",
       "<p>73915 rows × 23 columns</p>\n",
       "</div>"
      ]
     },
     "execution_count": 2,
     "metadata": {},
     "output_type": "execute_result"
    }
   ],
   "execution_count": 2
  },
  {
   "metadata": {},
   "cell_type": "markdown",
   "source": "<h2>Split the Dataset into Training and Testing Sets</h2>",
   "id": "6b28ef82366524fd"
  },
  {
   "metadata": {
    "ExecuteTime": {
     "end_time": "2025-03-16T19:53:24.255803Z",
     "start_time": "2025-03-16T19:53:24.230702Z"
    }
   },
   "cell_type": "code",
   "source": [
    "X = df.drop(columns=['Attrition'])\n",
    "y = df['Attrition']\n",
    "X_train, X_test, y_train, y_test = train_test_split(X, y, test_size=0.2, random_state=42)\n",
    "X_train.shape, y_train.shape, X_test.shape, y_test.shape"
   ],
   "id": "99f7ebe4e7e8ea2e",
   "outputs": [
    {
     "data": {
      "text/plain": [
       "((59132, 22), (59132,), (14783, 22), (14783,))"
      ]
     },
     "execution_count": 3,
     "metadata": {},
     "output_type": "execute_result"
    }
   ],
   "execution_count": 3
  },
  {
   "metadata": {},
   "cell_type": "markdown",
   "source": "<h2>Train Random Forest</h2>",
   "id": "97299dc1294174cc"
  },
  {
   "metadata": {
    "ExecuteTime": {
     "end_time": "2025-03-16T19:53:24.289446Z",
     "start_time": "2025-03-16T19:53:24.285444Z"
    }
   },
   "cell_type": "code",
   "source": "rf_classifier = RandomForestClassifier(random_state=42)",
   "id": "f7f7a69d412ef721",
   "outputs": [],
   "execution_count": 4
  },
  {
   "metadata": {
    "ExecuteTime": {
     "end_time": "2025-03-16T19:53:31.730991Z",
     "start_time": "2025-03-16T19:53:24.358362Z"
    }
   },
   "cell_type": "code",
   "source": [
    "rf_classifier.fit(X_train, y_train)\n",
    "y_pred = rf_classifier.predict(X_test)\n",
    "y_pred.shape"
   ],
   "id": "1366dedf13d69c7d",
   "outputs": [
    {
     "data": {
      "text/plain": [
       "(14783,)"
      ]
     },
     "execution_count": 5,
     "metadata": {},
     "output_type": "execute_result"
    }
   ],
   "execution_count": 5
  },
  {
   "metadata": {},
   "cell_type": "markdown",
   "source": "<h2>Confusion Matrix and Classification Report</h2>",
   "id": "489802422b48a545"
  },
  {
   "metadata": {
    "ExecuteTime": {
     "end_time": "2025-03-16T19:53:31.760755Z",
     "start_time": "2025-03-16T19:53:31.753225Z"
    }
   },
   "cell_type": "code",
   "source": [
    "accuracy = accuracy_score(y_test, y_pred)\n",
    "print(f'Accuracy: {accuracy * 100:.2f}%')\n",
    "\n",
    "conf_matrix = confusion_matrix(y_test, y_pred)\n",
    "print(\"Confusion Matrix:\")\n",
    "print(conf_matrix)\n"
   ],
   "id": "d1c21a38a4c995fe",
   "outputs": [
    {
     "name": "stdout",
     "output_type": "stream",
     "text": [
      "Accuracy: 74.37%\n",
      "Confusion Matrix:\n",
      "[[5110 1861]\n",
      " [1928 5884]]\n"
     ]
    }
   ],
   "execution_count": 6
  },
  {
   "metadata": {
    "ExecuteTime": {
     "end_time": "2025-03-16T19:53:31.786566Z",
     "start_time": "2025-03-16T19:53:31.780746Z"
    }
   },
   "cell_type": "code",
   "source": [
    "TN = conf_matrix[0,0]\n",
    "FP = conf_matrix[0,1]\n",
    "FN = conf_matrix[1,0]\n",
    "TP = conf_matrix[1,1]\n",
    "\n",
    "print(\"True Negative:\",TN)\n",
    "print(\"Flase Postive:\",FP)\n",
    "print(\"Flase Negative:\",FN)\n",
    "print(\"True Postive:\",TP)"
   ],
   "id": "caff181313fb12c9",
   "outputs": [
    {
     "name": "stdout",
     "output_type": "stream",
     "text": [
      "True Negative: 5110\n",
      "Flase Postive: 1861\n",
      "Flase Negative: 1928\n",
      "True Postive: 5884\n"
     ]
    }
   ],
   "execution_count": 7
  },
  {
   "metadata": {
    "ExecuteTime": {
     "end_time": "2025-03-16T19:53:31.819062Z",
     "start_time": "2025-03-16T19:53:31.806892Z"
    }
   },
   "cell_type": "code",
   "source": [
    "class_report = classification_report(y_test, y_pred)\n",
    "print(\"Classification Report:\")\n",
    "print(class_report)"
   ],
   "id": "2788455ee6e6612e",
   "outputs": [
    {
     "name": "stdout",
     "output_type": "stream",
     "text": [
      "Classification Report:\n",
      "              precision    recall  f1-score   support\n",
      "\n",
      "           0       0.73      0.73      0.73      6971\n",
      "           1       0.76      0.75      0.76      7812\n",
      "\n",
      "    accuracy                           0.74     14783\n",
      "   macro avg       0.74      0.74      0.74     14783\n",
      "weighted avg       0.74      0.74      0.74     14783\n",
      "\n"
     ]
    }
   ],
   "execution_count": 8
  },
  {
   "metadata": {},
   "cell_type": "markdown",
   "source": "<h2>Best k for Chi-Square and Mutual Information</h2>",
   "id": "2458696e15af3932"
  },
  {
   "metadata": {
    "ExecuteTime": {
     "end_time": "2025-03-16T19:57:58.260140Z",
     "start_time": "2025-03-16T19:53:31.844654Z"
    }
   },
   "cell_type": "code",
   "source": [
    "k_values = list(range(1, X_train.shape[1] + 1))\n",
    "accuracy_chi2 = []\n",
    "accuracy_mi = []\n",
    "\n",
    "for k in k_values:\n",
    "\n",
    "    selector_chi2 = SelectKBest(score_func=chi2, k=k)\n",
    "    X_train_selected_chi2 = selector_chi2.fit_transform(X_train, y_train)\n",
    "    X_test_selected_chi2 = selector_chi2.transform(X_test)\n",
    "\n",
    "    rf_classifier.fit(X_train_selected_chi2, y_train)\n",
    "    y_pred_chi2 = rf_classifier.predict(X_test_selected_chi2)\n",
    "    accuracy_chi2.append(accuracy_score(y_test, y_pred_chi2))\n",
    "\n",
    "\n",
    "    selector_mi = SelectKBest(score_func=mutual_info_classif, k=k)\n",
    "    X_train_selected_mi = selector_mi.fit_transform(X_train, y_train)\n",
    "    X_test_selected_mi = selector_mi.transform(X_test)\n",
    "\n",
    "    rf_classifier.fit(X_train_selected_mi, y_train)\n",
    "    y_pred_mi = rf_classifier.predict(X_test_selected_mi)\n",
    "    accuracy_mi.append(accuracy_score(y_test, y_pred_mi))\n",
    "\n",
    "\n",
    "best_k_chi2 = k_values[np.argmax(accuracy_chi2)]\n",
    "best_k_mi = k_values[np.argmax(accuracy_mi)]\n",
    "print(\"Best k for Chi-Square Feature Selection:\", best_k_chi2)\n",
    "print(\"Best k for Mutual Information Feature Selection:\", best_k_mi)\n",
    "\n",
    "\n",
    "plt.figure(figsize=(10, 5))\n",
    "plt.plot(k_values, accuracy_chi2, marker='o', label=\"Chi-Square\")\n",
    "plt.plot(k_values, accuracy_mi, marker='s', label=\"Mutual Information\")\n",
    "plt.xlabel(\"Number of Features (k)\")\n",
    "plt.ylabel(\"Accuracy\")\n",
    "plt.title(\"Feature Selection Impact on Random Forest Accuracy\")\n",
    "plt.legend()\n",
    "plt.show()"
   ],
   "id": "92addae35d034465",
   "outputs": [
    {
     "name": "stdout",
     "output_type": "stream",
     "text": [
      "Best k for Chi-Square Feature Selection: 22\n",
      "Best k for Mutual Information Feature Selection: 17\n"
     ]
    },
    {
     "data": {
      "text/plain": [
       "<Figure size 1000x500 with 1 Axes>"
      ],
      "image/png": "[encoded data removed]"
     },
     "metadata": {},
     "output_type": "display_data"
    }
   ],
   "execution_count": 9
  },
  {
   "metadata": {},
   "cell_type": "markdown",
   "source": "<h2>Train Random Forest with the best k for Chi-Square</h2>",
   "id": "3ef05ae42a3e254d"
  },
  {
   "metadata": {
    "ExecuteTime": {
     "end_time": "2025-03-16T19:58:05.153458Z",
     "start_time": "2025-03-16T19:57:58.305798Z"
    }
   },
   "cell_type": "code",
   "source": [
    "k = best_k_chi2\n",
    "selector_chi2 = SelectKBest(score_func=chi2, k=k)\n",
    "X_train_selected_chi2 = selector_chi2.fit_transform(X_train, y_train)\n",
    "X_test_selected_chi2 = selector_chi2.transform(X_test)\n",
    "\n",
    "rf_classifier.fit(X_train_selected_chi2, y_train)\n",
    "y_pred_chi2 = rf_classifier.predict(X_test_selected_chi2)\n",
    "\n",
    "accuracy_chi2 = accuracy_score(y_test, y_pred_chi2)\n",
    "print(\"Random Forest Accuracy after Chi-Square feature selection:\", accuracy_chi2)\n"
   ],
   "id": "ebc0c85742896400",
   "outputs": [
    {
     "name": "stdout",
     "output_type": "stream",
     "text": [
      "Random Forest Accuracy after Chi-Square feature selection: 0.7436920787390922\n"
     ]
    }
   ],
   "execution_count": 10
  },
  {
   "metadata": {},
   "cell_type": "markdown",
   "source": "<h2>Confusion Matrix and Classification Report for Chi-Square</h2>",
   "id": "ae808ae6c4da4b0d"
  },
  {
   "metadata": {
    "ExecuteTime": {
     "end_time": "2025-03-16T19:58:05.179703Z",
     "start_time": "2025-03-16T19:58:05.165035Z"
    }
   },
   "cell_type": "code",
   "source": [
    "conf_matrix_chi2 = confusion_matrix(y_test, y_pred_chi2)\n",
    "print(\"Confusion Matrix after Chi-Square feature selection:\")\n",
    "print(conf_matrix_chi2)\n",
    "\n",
    "class_report_chi2 = classification_report(y_test, y_pred_chi2)\n",
    "print(\"Classification Report after Chi-Square feature selection:\")\n",
    "print(class_report_chi2)"
   ],
   "id": "17259ad3523ea55e",
   "outputs": [
    {
     "name": "stdout",
     "output_type": "stream",
     "text": [
      "Confusion Matrix after Chi-Square feature selection:\n",
      "[[5110 1861]\n",
      " [1928 5884]]\n",
      "Classification Report after Chi-Square feature selection:\n",
      "              precision    recall  f1-score   support\n",
      "\n",
      "           0       0.73      0.73      0.73      6971\n",
      "           1       0.76      0.75      0.76      7812\n",
      "\n",
      "    accuracy                           0.74     14783\n",
      "   macro avg       0.74      0.74      0.74     14783\n",
      "weighted avg       0.74      0.74      0.74     14783\n",
      "\n"
     ]
    }
   ],
   "execution_count": 11
  },
  {
   "metadata": {},
   "cell_type": "markdown",
   "source": "<h2>Selected Features for Chi-Square</h2>",
   "id": "f33059b7bb8c8d13"
  },
  {
   "metadata": {
    "ExecuteTime": {
     "end_time": "2025-03-16T19:58:05.235856Z",
     "start_time": "2025-03-16T19:58:05.230944Z"
    }
   },
   "cell_type": "code",
   "source": [
    "selected_features_chi2 = selector_chi2.get_support(indices=True)\n",
    "selected_feature_names_chi2 = X_train.columns[selected_features_chi2]\n",
    "print(\"Selected Features (Chi-Square):\", list(selected_feature_names_chi2))"
   ],
   "id": "b53dfef32d45f388",
   "outputs": [
    {
     "name": "stdout",
     "output_type": "stream",
     "text": [
      "Selected Features (Chi-Square): ['Age', 'Gender', 'Years at Company', 'Job Role', 'Monthly Income', 'Work-Life Balance', 'Job Satisfaction', 'Performance Rating', 'Number of Promotions', 'Overtime', 'Distance from Home', 'Education Level', 'Marital Status', 'Number of Dependents', 'Job Level', 'Company Size', 'Company Tenure', 'Remote Work', 'Leadership Opportunities', 'Innovation Opportunities', 'Company Reputation', 'Employee Recognition']\n"
     ]
    }
   ],
   "execution_count": 12
  },
  {
   "metadata": {},
   "cell_type": "markdown",
   "source": "<h2>Train Random Forest with the best k for Mutual Information</h2>",
   "id": "ce03ecc3499930a6"
  },
  {
   "metadata": {
    "ExecuteTime": {
     "end_time": "2025-03-16T19:58:14.530647Z",
     "start_time": "2025-03-16T19:58:05.290537Z"
    }
   },
   "cell_type": "code",
   "source": [
    "k = best_k_mi\n",
    "selector_mi = SelectKBest(score_func=mutual_info_classif, k=k)\n",
    "X_train_selected_mi = selector_mi.fit_transform(X_train, y_train)\n",
    "X_test_selected_mi = selector_mi.transform(X_test)\n",
    "\n",
    "rf_classifier.fit(X_train_selected_mi, y_train)\n",
    "y_pred_mi = rf_classifier.predict(X_test_selected_mi)\n",
    "\n",
    "accuracy_mi = accuracy_score(y_test, y_pred_mi)\n",
    "print(\"Random Forest Accuracy after Mutual Information feature selection:\", accuracy_mi)"
   ],
   "id": "7fd29d3fc144875c",
   "outputs": [
    {
     "name": "stdout",
     "output_type": "stream",
     "text": [
      "Random Forest Accuracy after Mutual Information feature selection: 0.739498072109856\n"
     ]
    }
   ],
   "execution_count": 13
  },
  {
   "metadata": {},
   "cell_type": "markdown",
   "source": "<h2>Confusion Matrix and Classification Report for Mutual Information</h2>",
   "id": "1f0a1431d512a83d"
  },
  {
   "metadata": {
    "ExecuteTime": {
     "end_time": "2025-03-16T19:58:14.552223Z",
     "start_time": "2025-03-16T19:58:14.538683Z"
    }
   },
   "cell_type": "code",
   "source": [
    "conf_matrix_mi = confusion_matrix(y_test, y_pred_mi)\n",
    "print(\"Confusion Matrix after Mutual Information feature selection:\")\n",
    "print(conf_matrix_mi)\n",
    "\n",
    "class_report_mi = classification_report(y_test, y_pred_mi)\n",
    "print(\"Classification Report after Mutual Information feature selection:\")\n",
    "print(class_report_mi)"
   ],
   "id": "add48a2eba92b57a",
   "outputs": [
    {
     "name": "stdout",
     "output_type": "stream",
     "text": [
      "Confusion Matrix after Mutual Information feature selection:\n",
      "[[5071 1900]\n",
      " [1951 5861]]\n",
      "Classification Report after Mutual Information feature selection:\n",
      "              precision    recall  f1-score   support\n",
      "\n",
      "           0       0.72      0.73      0.72      6971\n",
      "           1       0.76      0.75      0.75      7812\n",
      "\n",
      "    accuracy                           0.74     14783\n",
      "   macro avg       0.74      0.74      0.74     14783\n",
      "weighted avg       0.74      0.74      0.74     14783\n",
      "\n"
     ]
    }
   ],
   "execution_count": 14
  },
  {
   "metadata": {},
   "cell_type": "markdown",
   "source": "<h2>Selected Features for Mutual Information</h2>",
   "id": "19693daf445a95ac"
  },
  {
   "metadata": {
    "ExecuteTime": {
     "end_time": "2025-03-16T19:58:14.582792Z",
     "start_time": "2025-03-16T19:58:14.577289Z"
    }
   },
   "cell_type": "code",
   "source": [
    "selected_features_mi = selector_mi.get_support(indices=True)\n",
    "selected_feature_names_mi = X_train.columns[selected_features_mi]\n",
    "print(\"Selected Features (Mutual Information):\", list(selected_feature_names_mi))"
   ],
   "id": "af8deba14753c259",
   "outputs": [
    {
     "name": "stdout",
     "output_type": "stream",
     "text": [
      "Selected Features (Mutual Information): ['Gender', 'Years at Company', 'Job Role', 'Work-Life Balance', 'Job Satisfaction', 'Performance Rating', 'Number of Promotions', 'Overtime', 'Distance from Home', 'Marital Status', 'Number of Dependents', 'Job Level', 'Remote Work', 'Leadership Opportunities', 'Innovation Opportunities', 'Company Reputation', 'Employee Recognition']\n"
     ]
    }
   ],
   "execution_count": 15
  },
  {
   "metadata": {},
   "cell_type": "markdown",
   "source": "<h2>Feature Importance in Random Forest</h2>",
   "id": "49db5a6c71535296"
  },
  {
   "metadata": {
    "ExecuteTime": {
     "end_time": "2025-03-16T19:58:14.740988Z",
     "start_time": "2025-03-16T19:58:14.608450Z"
    }
   },
   "cell_type": "code",
   "source": [
    "importances = rf_classifier.feature_importances_\n",
    "feature_names = X.columns\n",
    "\n",
    "sorted_indices = np.argsort(importances)[::-1]\n",
    "sorted_features = feature_names[sorted_indices]\n",
    "sorted_importances = importances[sorted_indices]\n",
    "\n",
    "plt.figure(figsize=(10, 6))\n",
    "plt.barh(sorted_features[:10], sorted_importances[:10], color='skyblue')  # Top 10 features\n",
    "plt.xlabel('Feature Importance')\n",
    "plt.ylabel('Features')\n",
    "plt.title('Top 10 Feature Importance in Random Forest')\n",
    "plt.show()"
   ],
   "id": "6ee887bd35818df6",
   "outputs": [
    {
     "data": {
      "text/plain": [
       "<Figure size 1000x600 with 1 Axes>"
      ],
      "image/png": "[encoded data removed]"
     },
     "metadata": {},
     "output_type": "display_data"
    }
   ],
   "execution_count": 16
  },
  {
   "metadata": {},
   "cell_type": "markdown",
   "source": "<h2>Confusion Matrix Heatmap</h2>",
   "id": "d7f346b59cd12590"
  },
  {
   "metadata": {
    "ExecuteTime": {
     "end_time": "2025-03-16T19:59:05.614886Z",
     "start_time": "2025-03-16T19:59:05.514347Z"
    }
   },
   "cell_type": "code",
   "source": [
    "import seaborn as sns\n",
    "\n",
    "\n",
    "plt.figure(figsize=(8, 6))\n",
    "sns.heatmap(conf_matrix, annot=True, fmt='d', cmap='Blues',\n",
    "            xticklabels=['Stay', 'Left'],\n",
    "            yticklabels=['Stay', 'Left'])\n",
    "plt.xlabel('Predicted')\n",
    "plt.ylabel('Actual')\n",
    "plt.title('Confusion Matrix for Random Forest')\n",
    "plt.show()"
   ],
   "id": "501320823a19b99f",
   "outputs": [
    {
     "data": {
      "text/plain": [
       "<Figure size 800x600 with 2 Axes>"
      ],
      "image/png": "[encoded data removed]"
     },
     "metadata": {},
     "output_type": "display_data"
    }
   ],
   "execution_count": 18
  },
  {
   "metadata": {
    "ExecuteTime": {
     "end_time": "2025-03-16T19:58:14.887313Z",
     "start_time": "2025-03-16T19:58:14.884303Z"
    }
   },
   "cell_type": "code",
   "source": "",
   "id": "9ee98a18a8240adb",
   "outputs": [],
   "execution_count": null
  }
 ],
 "metadata": {
  "kernelspec": {
   "display_name": "Python 3 (ipykernel)",
   "language": "python",
   "name": "python3"
  },
  "language_info": {
   "codemirror_mode": {
    "name": "ipython",
    "version": 2
   },
   "file_extension": ".py",
   "mimetype": "text/x-python",
   "name": "python",
   "nbconvert_exporter": "python",
   "pygments_lexer": "ipython2",
   "version": "2.7.6"
  }
 },
 "nbformat": 4,
 "nbformat_minor": 5
}
